{
 "cells": [
  {
   "cell_type": "markdown",
   "metadata": {},
   "source": [
    "## Football CNN\n",
    "\n",
    "This notebook will emulate the CNN created in `2017-10-14-CNN-from-scratch.ipynb` and apply the architecture of the CNN to the football images data set in order to classify an image as \"football game\" or \"other\""
   ]
  },
  {
   "cell_type": "code",
   "execution_count": 2,
   "metadata": {
    "collapsed": true
   },
   "outputs": [],
   "source": [
    "import os\n",
    "import tensorflow as tf\n",
    "import scipy.ndimage\n",
    "from scipy.misc import imsave\n",
    "import matplotlib.pyplot as plt\n",
    "import numpy as np\n",
    "\n",
    "import imFunctions as imf\n",
    "\n",
    "%matplotlib inline"
   ]
  },
  {
   "cell_type": "markdown",
   "metadata": {},
   "source": [
    "## Organize Images Into Training/Test sets\n",
    "\n",
    "Arrange images to create a test and training data sets\n",
    "\n",
    "NOTE: due to some other processing I do (playing around with ffmpeg, capturing from the camera etc), I have a ton of images ready for learning already in `~/football_imgs/{game,ad}`. In order to emulate the tutorial more closely, I'm going to arrange the folder structure similarly to the tutorial but symlink the images in a directory structure I have created for this notebook's purpose.\n",
    "\n",
    "The directory structure for this notebook's purpose is:\n",
    "\n",
    "{game,ad}/{train,test}"
   ]
  },
  {
   "cell_type": "code",
   "execution_count": 3,
   "metadata": {
    "collapsed": true
   },
   "outputs": [],
   "source": [
    "game_img_src_dir = '/home/brycemcd/football_imgs/game/small/'\n",
    "ad_img_src_dir = '/home/brycemcd/football_imgs/ad/images/small/'\n",
    "\n",
    "training_game_img_src_dir = 'data/football/game/train/'\n",
    "testing_game_img_src_dir = 'data/football/game/test/'\n",
    "training_ad_img_src_dir = 'data/football/ad/train/'\n",
    "testing_ad_img_src_dir = 'data/football/ad/test/'\n",
    "\n",
    "num_classes = 2"
   ]
  },
  {
   "cell_type": "code",
   "execution_count": null,
   "metadata": {
    "collapsed": true
   },
   "outputs": [],
   "source": [
    "game_imgs = os.listdir('/home/brycemcd/football_imgs/game/small/')\n",
    "game_imgs[0:5]"
   ]
  },
  {
   "cell_type": "code",
   "execution_count": null,
   "metadata": {
    "collapsed": true
   },
   "outputs": [],
   "source": [
    "ad_imgs = os.listdir('/home/brycemcd/football_imgs/ad/images/small/')\n",
    "ad_imgs[0:5]"
   ]
  },
  {
   "cell_type": "code",
   "execution_count": null,
   "metadata": {
    "collapsed": true
   },
   "outputs": [],
   "source": [
    "print(\"game imgs count: %s\" % len(game_imgs))\n",
    "print(\"ad imgs count: %s\" % len(ad_imgs))"
   ]
  },
  {
   "cell_type": "code",
   "execution_count": null,
   "metadata": {
    "collapsed": true
   },
   "outputs": [],
   "source": [
    "game_train_cnt = round(len(game_imgs) * 0.85)\n",
    "game_test_cnt  = len(game_imgs) - game_train_cnt"
   ]
  },
  {
   "cell_type": "code",
   "execution_count": null,
   "metadata": {
    "collapsed": true
   },
   "outputs": [],
   "source": [
    "import random\n",
    "\n",
    "def create_training_data(img_src_dir, img_dst_dir, training_percentage):\n",
    "    \"\"\"Get a random set of images for training and symlink them to this notebook's directory structure\"\"\"\n",
    "    all_imgs = os.listdir(img_src_dir)\n",
    "    training_img_cnt = len(all_imgs) * training_percentage\n",
    "    \n",
    "    train_imgs = []\n",
    "\n",
    "    while(len(os.listdir(img_dst_dir)) < training_img_cnt):\n",
    "        img = random.choice(all_imgs)\n",
    "\n",
    "        try:\n",
    "            os.symlink( img_src_dir + img,\n",
    "                        img_dst_dir + img)\n",
    "            train_imgs.append(img)\n",
    "            all_imgs.remove(img)\n",
    "        except FileExistsError:\n",
    "            continue\n",
    "    return train_imgs"
   ]
  },
  {
   "cell_type": "code",
   "execution_count": null,
   "metadata": {
    "collapsed": true
   },
   "outputs": [],
   "source": [
    "def create_testing_data(img_src_dir, img_dst_dir, training_dir):\n",
    "    \"take all images that are not appropriated for training and make them test images\"\n",
    "    all_imgs = os.listdir(img_src_dir)\n",
    "    training_imgs = os.listdir(training_dir)\n",
    "    testing_imgs = set(all_imgs) - set(training_imgs)\n",
    "\n",
    "    for img in testing_imgs:\n",
    "        os.symlink( img_src_dir + img,\n",
    "                    img_dst_dir + img)\n"
   ]
  },
  {
   "cell_type": "code",
   "execution_count": null,
   "metadata": {
    "collapsed": true
   },
   "outputs": [],
   "source": [
    "create_training_data(game_img_src_dir, training_game_img_src_dir, 0.85)\n",
    "create_testing_data(game_img_src_dir, testing_game_img_src_dir, training_game_img_src_dir)"
   ]
  },
  {
   "cell_type": "code",
   "execution_count": 28,
   "metadata": {},
   "outputs": [
    {
     "data": {
      "text/plain": [
       "11988"
      ]
     },
     "execution_count": 28,
     "metadata": {},
     "output_type": "execute_result"
    }
   ],
   "source": [
    "len(os.listdir(training_game_img_src_dir))"
   ]
  },
  {
   "cell_type": "code",
   "execution_count": 29,
   "metadata": {},
   "outputs": [
    {
     "data": {
      "text/plain": [
       "2115"
      ]
     },
     "execution_count": 29,
     "metadata": {},
     "output_type": "execute_result"
    }
   ],
   "source": [
    "len(os.listdir(testing_game_img_src_dir))"
   ]
  },
  {
   "cell_type": "code",
   "execution_count": null,
   "metadata": {
    "collapsed": true
   },
   "outputs": [],
   "source": [
    "# This should be 0\n",
    "training_img_set = set(os.listdir(training_game_img_src_dir))\n",
    "testing_img_set = set(os.listdir(testing_game_img_src_dir))\n",
    "len(training_img_set.intersection(testing_img_set))"
   ]
  },
  {
   "cell_type": "code",
   "execution_count": null,
   "metadata": {
    "collapsed": true
   },
   "outputs": [],
   "source": [
    "create_training_data(ad_img_src_dir, training_ad_img_src_dir, 0.85)\n",
    "create_testing_data(ad_img_src_dir, testing_ad_img_src_dir, training_ad_img_src_dir)"
   ]
  },
  {
   "cell_type": "code",
   "execution_count": null,
   "metadata": {
    "collapsed": true
   },
   "outputs": [],
   "source": [
    "len(os.listdir(training_ad_img_src_dir))"
   ]
  },
  {
   "cell_type": "code",
   "execution_count": null,
   "metadata": {
    "collapsed": true
   },
   "outputs": [],
   "source": [
    "len(os.listdir(testing_ad_img_src_dir))"
   ]
  },
  {
   "cell_type": "code",
   "execution_count": null,
   "metadata": {
    "collapsed": true
   },
   "outputs": [],
   "source": [
    "# This should be 0\n",
    "training_img_set = set(os.listdir(training_ad_img_src_dir))\n",
    "testing_img_set = set(os.listdir(testing_ad_img_src_dir))\n",
    "len(training_img_set.intersection(testing_img_set))"
   ]
  },
  {
   "cell_type": "code",
   "execution_count": null,
   "metadata": {
    "collapsed": true
   },
   "outputs": [],
   "source": [
    " # NOTE: in graphics the image is 320x240 (wxh), in linear alg. the shape is 240x320 (nxm)\n",
    "num_samples = 4000\n",
    "data_shape = [1, 240, 320, 1]"
   ]
  },
  {
   "cell_type": "code",
   "execution_count": null,
   "metadata": {
    "collapsed": true
   },
   "outputs": [],
   "source": [
    "train_x = np.zeros(data_shape)\n",
    "train_y = np.zeros([1, num_classes])\n",
    "\n",
    "test_x = np.zeros(data_shape)\n",
    "test_y = np.zeros([1, num_classes])\n",
    "\n",
    "training_game_img_set = set(os.listdir(training_game_img_src_dir))\n",
    "training_ad_img_set = set(os.listdir(training_ad_img_src_dir))\n",
    "\n",
    "testing_game_img_set = set(os.listdir(testing_game_img_src_dir))\n",
    "testing_ad_img_set = set(os.listdir(testing_ad_img_src_dir))\n",
    "\n",
    "# TODO: make this a function ... sheesh\n",
    "print(\"adding games to training set\")\n",
    "for img in list(training_game_img_set)[0:num_samples]:\n",
    "    full_img = training_game_img_src_dir + img\n",
    "    im = scipy.misc.imread(full_img, flatten=True, mode=\"I\").astype(np.float32)\n",
    "    im = im.reshape(data_shape)\n",
    "    #print(im)\n",
    "    train_x = np.vstack((train_x, im))\n",
    "    train_y = np.vstack((train_y, [1, 0]))\n",
    "\n",
    "print(\"adding not games to training set\")\n",
    "for img in list(training_ad_img_set)[0:num_samples]:\n",
    "    full_img = training_ad_img_src_dir + img\n",
    "    im = scipy.misc.imread(full_img, flatten=True, mode=\"I\").astype(np.float32)\n",
    "    im = im.reshape(data_shape)\n",
    "    #print(im)\n",
    "    train_x = np.vstack((train_x, im))\n",
    "    train_y = np.vstack((train_y, [0, 1]))\n",
    "\n",
    "print(\"adding games to test set\")\n",
    "for img in list(testing_game_img_set)[0: round(num_samples * 0.25)]:\n",
    "    full_img = testing_game_img_src_dir + img\n",
    "    im = scipy.misc.imread(full_img, flatten=True, mode=\"I\").astype(np.float32)\n",
    "    im = im.reshape(data_shape)\n",
    "    #print(im)\n",
    "    test_x = np.vstack((test_x, im))\n",
    "    test_y = np.vstack((test_y, [1, 0]))\n",
    "\n",
    "print(\"adding not games to test set\")\n",
    "for img in list(testing_ad_img_set)[0: round(num_samples * 0.25)]:\n",
    "    full_img = testing_ad_img_src_dir + img\n",
    "    im = scipy.misc.imread(full_img, flatten=True, mode=\"I\").astype(np.float32)\n",
    "    im = im.reshape(data_shape)\n",
    "    #print(im)\n",
    "    test_x = np.vstack((test_x, im))\n",
    "    test_y = np.vstack((test_y, [0, 1]))\n",
    "    \n",
    "train_x -= np.mean([train_x], axis=1)\n",
    "test_x -= np.mean([train_x], axis=1)\n",
    "\n",
    "train_x = train_x[1:]\n",
    "train_y = train_y[1:]\n",
    "\n",
    "test_x = test_x[1:]\n",
    "test_y = test_y[1:]"
   ]
  },
  {
   "cell_type": "code",
   "execution_count": null,
   "metadata": {
    "collapsed": true
   },
   "outputs": [],
   "source": [
    "np.save('data/football/train_x', train_x)\n",
    "np.save('data/football/train_y', train_y)\n",
    "\n",
    "np.save('data/football/test_x', test_x)\n",
    "np.save('data/football/test_y', test_y)"
   ]
  },
  {
   "cell_type": "code",
   "execution_count": 4,
   "metadata": {
    "collapsed": true
   },
   "outputs": [],
   "source": [
    "# NOTE: I changed this to utilize an SSD I have on this box. Should be: data/football/*.npy\n",
    "\n",
    "train_x = np.load('data/serialized/train_x.npy')\n",
    "train_y = np.load('data/serialized/train_y.npy')\n",
    "\n",
    "test_x  = np.load('data/serialized/test_x.npy')\n",
    "test_y  = np.load('data/serialized/test_y.npy')"
   ]
  },
  {
   "cell_type": "code",
   "execution_count": 5,
   "metadata": {},
   "outputs": [
    {
     "name": "stdout",
     "output_type": "stream",
     "text": [
      "# of training samples: 8000\n",
      "# of training labels: 8000\n",
      "# of testing samples: 2000\n",
      "# of testing labels: 2000\n"
     ]
    }
   ],
   "source": [
    "print(\"# of training samples: %s\" % len(train_x))\n",
    "print(\"# of training labels: %s\" % len(train_y))\n",
    "\n",
    "print(\"# of testing samples: %s\" % len(test_x))\n",
    "print(\"# of testing labels: %s\" % len(test_y))"
   ]
  },
  {
   "cell_type": "markdown",
   "metadata": {},
   "source": [
    "## Network Architecture"
   ]
  },
  {
   "cell_type": "code",
   "execution_count": 6,
   "metadata": {
    "collapsed": true
   },
   "outputs": [],
   "source": [
    "X = tf.placeholder(tf.float32, shape=(None, 240, 320, 1))\n",
    "Y_ = tf.placeholder(tf.float32, [None, num_classes])\n",
    "\n",
    "keepRate1 = tf.placeholder(tf.float32)\n",
    "keepRate2 = tf.placeholder(tf.float32)"
   ]
  },
  {
   "cell_type": "code",
   "execution_count": 7,
   "metadata": {
    "collapsed": true
   },
   "outputs": [],
   "source": [
    "# CONVOLUTION 1 - 1\n",
    "with tf.name_scope('conv1_1'):\n",
    "    num_filters1_1 = 32\n",
    "    filter1_1 = tf.Variable(tf.truncated_normal([3, 3, 1, num_filters1_1], \n",
    "                                                dtype=tf.float32,\n",
    "                                                stddev=1e-1), \n",
    "                            name='weights1_1')\n",
    "    stride = [1,1,1,1]\n",
    "    conv = tf.nn.conv2d(X, filter1_1, stride, padding='SAME')\n",
    "    \n",
    "    biases = tf.Variable(tf.constant(0.0, \n",
    "                                     shape=[num_filters1_1], \n",
    "                                     dtype=tf.float32),\n",
    "                        trainable=True,\n",
    "                        name='biases1_1')\n",
    "    \n",
    "    out = tf.nn.bias_add(conv, biases)\n",
    "    conv1_1 = tf.nn.relu(out)"
   ]
  },
  {
   "cell_type": "code",
   "execution_count": 8,
   "metadata": {
    "collapsed": true
   },
   "outputs": [],
   "source": [
    "# CONVOLUTION 1 - 2\n",
    "with tf.name_scope('conv1_2'):\n",
    "    num_filters1_2 = 32\n",
    "    filter1_2 = tf.Variable(tf.truncated_normal([3, 3, num_filters1_1, num_filters1_2], \n",
    "                                                dtype=tf.float32,\n",
    "                                                stddev=1e-1), \n",
    "                            name='weights1_2')\n",
    "    \n",
    "    stride = [1,1,1,1]\n",
    "    conv = tf.nn.conv2d(conv1_1, filter1_2, stride, padding='SAME')\n",
    "    \n",
    "    biases = tf.Variable(tf.constant(0.0, shape=[num_filters1_2], dtype=tf.float32),\n",
    "                         trainable=True, name='biases1_2')\n",
    "    \n",
    "    out = tf.nn.bias_add(conv, biases)\n",
    "    conv1_2 = tf.nn.relu(out)"
   ]
  },
  {
   "cell_type": "code",
   "execution_count": 9,
   "metadata": {
    "collapsed": true
   },
   "outputs": [],
   "source": [
    "# POOL 1\n",
    "with tf.name_scope('pool1'):\n",
    "    pool1_1 = tf.nn.max_pool(conv1_2,\n",
    "                             ksize=[1, 5, 5, 1],\n",
    "                             strides=[1, 5, 5, 1],\n",
    "                             padding='SAME',\n",
    "                             name='pool1_1')\n",
    "    pool1_1_drop = tf.nn.dropout(pool1_1, keepRate1)"
   ]
  },
  {
   "cell_type": "code",
   "execution_count": 10,
   "metadata": {
    "collapsed": true
   },
   "outputs": [],
   "source": [
    "# CONVOLUTION 2 - 1\n",
    "with tf.name_scope('conv2_1'):\n",
    "    filter2_1 = tf.Variable(tf.truncated_normal([3, 3, 32, 64], dtype=tf.float32,\n",
    "                                                stddev=1e-1), name='weights2_1')\n",
    "    conv = tf.nn.conv2d(pool1_1_drop, filter2_1, [1, 1, 1, 1], padding='SAME')\n",
    "    biases = tf.Variable(tf.constant(0.0, shape=[64], dtype=tf.float32),\n",
    "                         trainable=True, name='biases2_1')\n",
    "    out = tf.nn.bias_add(conv, biases)\n",
    "    conv2_1 = tf.nn.sigmoid(out)\n",
    "    \n",
    "# CONVOLUTION 2 - 2\n",
    "with tf.name_scope('conv2_2'):\n",
    "    filter2_2 = tf.Variable(tf.truncated_normal([3, 3, 64, 64], dtype=tf.float32,\n",
    "                                                stddev=1e-1), name='weights2_2')\n",
    "    conv = tf.nn.conv2d(conv2_1, filter2_2, [1, 1, 1, 1], padding='SAME')\n",
    "    biases = tf.Variable(tf.constant(0.0, shape=[64], dtype=tf.float32),\n",
    "                         trainable=True, name='biases2_2')\n",
    "    out = tf.nn.bias_add(conv, biases)\n",
    "    conv2_2 = tf.nn.relu(out)\n",
    "    \n",
    "# POOL 2\n",
    "with tf.name_scope('pool2'):\n",
    "    pool2_1 = tf.nn.max_pool(conv2_2,\n",
    "                             ksize=[1, 5, 5, 1],\n",
    "                             strides=[1, 5, 5, 1],\n",
    "                             padding='SAME',\n",
    "                             name='pool2_1')\n",
    "    pool2_1_drop = tf.nn.dropout(pool2_1, keepRate1)"
   ]
  },
  {
   "cell_type": "code",
   "execution_count": 11,
   "metadata": {
    "collapsed": true
   },
   "outputs": [],
   "source": [
    "#FULLY CONNECTED 1\n",
    "with tf.name_scope('fc1') as scope:\n",
    "    shape = int(np.prod(pool2_1_drop.get_shape()[1:]))\n",
    "    \n",
    "    fc1w = tf.Variable(tf.truncated_normal([shape, 512], \n",
    "                                           dtype=tf.float32,\n",
    "                                           stddev=1e-1), \n",
    "                       name='weights3_1')\n",
    "    \n",
    "    fc1b = tf.Variable(tf.constant(1.0, shape=[512], dtype=tf.float32),\n",
    "                       trainable=True, \n",
    "                       name='biases3_1')\n",
    "    \n",
    "    pool2_flat = tf.reshape(pool2_1_drop, [-1, shape])\n",
    "    \n",
    "    out = tf.nn.bias_add(tf.matmul(pool2_flat, fc1w), fc1b)\n",
    "    fc1 = tf.nn.relu(out)\n",
    "    fc1_drop = tf.nn.dropout(fc1, keepRate2)"
   ]
  },
  {
   "cell_type": "code",
   "execution_count": 12,
   "metadata": {
    "collapsed": true
   },
   "outputs": [],
   "source": [
    "#FULLY CONNECTED 3 & SOFTMAX OUTPUT\n",
    "with tf.name_scope('softmax') as scope:\n",
    "    fc2w = tf.Variable(tf.truncated_normal([512, num_classes], dtype=tf.float32,\n",
    "                                           stddev=1e-1), name='weights3_2')\n",
    "    \n",
    "    fc2b = tf.Variable(tf.constant(1.0, shape=[num_classes], dtype=tf.float32),\n",
    "                       trainable=True, name='biases3_2')\n",
    "    \n",
    "    Ylogits = tf.nn.bias_add(tf.matmul(fc1_drop, fc2w), fc2b)\n",
    "    \n",
    "    Y = tf.nn.softmax(Ylogits)"
   ]
  },
  {
   "cell_type": "markdown",
   "metadata": {},
   "source": [
    "## Learning"
   ]
  },
  {
   "cell_type": "code",
   "execution_count": 13,
   "metadata": {},
   "outputs": [],
   "source": [
    "train_x, train_y = imf.shuffle(train_x, train_y)\n",
    "test_x, test_y = imf.shuffle(test_x, test_y)\n",
    "\n",
    "#keep_samples = 6000"
   ]
  },
  {
   "cell_type": "code",
   "execution_count": 14,
   "metadata": {},
   "outputs": [],
   "source": [
    "#train_y[0:keep_samples, 0].sum()"
   ]
  },
  {
   "cell_type": "code",
   "execution_count": 15,
   "metadata": {},
   "outputs": [],
   "source": [
    "#test_y[0:keep_samples, 0].sum()"
   ]
  },
  {
   "cell_type": "code",
   "execution_count": 16,
   "metadata": {},
   "outputs": [],
   "source": [
    "#train_x = train_x[0:keep_samples]\n",
    "#train_y = train_y[0:keep_samples]\n",
    "#test_x  = test_x[0:keep_samples]\n",
    "#test_y  = test_y[0:keep_samples]\n",
    "\n",
    "numEpochs = 30\n",
    "batchSize = 200\n",
    "alpha = 1e-3\n",
    "\n",
    "\n",
    "with tf.name_scope('cross_entropy'):\n",
    "    cross_entropy = tf.nn.softmax_cross_entropy_with_logits(logits=Ylogits, labels=Y_)\n",
    "    loss = tf.reduce_mean(cross_entropy)\n",
    "\n",
    "with tf.name_scope('accuracy'):\n",
    "    correct_prediction = tf.equal(tf.argmax(Y, 1), tf.argmax(Y_, 1))\n",
    "    accuracy = tf.reduce_mean(tf.cast(correct_prediction, tf.float32))\n",
    "\n",
    "with tf.name_scope('train'):\n",
    "    train_step = tf.train.AdamOptimizer(learning_rate=alpha).minimize(loss)"
   ]
  },
  {
   "cell_type": "code",
   "execution_count": 17,
   "metadata": {
    "collapsed": true
   },
   "outputs": [],
   "source": [
    "sess = tf.InteractiveSession() # TODO make this an interactive session\n",
    "init = tf.global_variables_initializer()\n",
    "sess.run(init)"
   ]
  },
  {
   "cell_type": "code",
   "execution_count": 18,
   "metadata": {},
   "outputs": [
    {
     "data": {
      "text/plain": [
       "'2017-10-21T16:22'"
      ]
     },
     "execution_count": 18,
     "metadata": {},
     "output_type": "execute_result"
    }
   ],
   "source": [
    "from datetime import datetime\n",
    "now = datetime.now().isoformat(timespec='minutes')\n",
    "now"
   ]
  },
  {
   "cell_type": "code",
   "execution_count": 19,
   "metadata": {
    "collapsed": true
   },
   "outputs": [],
   "source": [
    "def _activation_summary(x):\n",
    "    \"\"\"Helper to create summaries for activations.\n",
    "\n",
    "    Borrowed from https://github.com/tensorflow/models/blob/master/tutorials/image/cifar10/cifar10.py\n",
    "    Creates a summary that provides a histogram of activations.\n",
    "    Creates a summary that measures the sparsity of activations.\n",
    "    Args:\n",
    "    x: Tensor\n",
    "    Returns:\n",
    "    nothing\n",
    "    \"\"\"\n",
    "    # Remove 'tower_[0-9]/' from the name in case this is a multi-GPU training\n",
    "    # session. This helps the clarity of presentation on tensorboard.\n",
    "    tensor_name = re.sub('%s_[0-9]*/' % TOWER_NAME, '', x.op.name)\n",
    "    tf.summary.histogram(tensor_name + '/activations', x)\n",
    "    tf.summary.scalar(tensor_name + '/sparsity',\n",
    "                                       tf.nn.zero_fraction(x))\n",
    "    \n",
    "writer_1 = tf.summary.FileWriter(\"/tmp/football/train-%s\" % now)\n",
    "writer_2 = tf.summary.FileWriter(\"/tmp/football/test-%s\" % now)\n",
    "\n",
    "writer_1.add_graph(sess.graph)\n",
    "\n",
    "tf.summary.scalar('Loss', loss)\n",
    "tf.summary.scalar('Accuracy', accuracy)\n",
    "tf.summary.histogram(\"weights1_1\", filter1_1)\n",
    "tf.summary.histogram(\"weights1_2\", filter1_2)\n",
    "write_op = tf.summary.merge_all()"
   ]
  },
  {
   "cell_type": "code",
   "execution_count": 20,
   "metadata": {},
   "outputs": [
    {
     "data": {
      "text/plain": [
       "<tf.Tensor 'accuracy/Mean:0' shape=() dtype=float32>"
      ]
     },
     "execution_count": 20,
     "metadata": {},
     "output_type": "execute_result"
    }
   ],
   "source": [
    "accuracy"
   ]
  },
  {
   "cell_type": "code",
   "execution_count": 21,
   "metadata": {},
   "outputs": [
    {
     "data": {
      "text/plain": [
       "<tf.Operation 'train/Adam' type=NoOp>"
      ]
     },
     "execution_count": 21,
     "metadata": {},
     "output_type": "execute_result"
    }
   ],
   "source": [
    "train_step"
   ]
  },
  {
   "cell_type": "code",
   "execution_count": 22,
   "metadata": {},
   "outputs": [
    {
     "data": {
      "text/plain": [
       "<tf.Tensor 'Merge/MergeSummary:0' shape=() dtype=string>"
      ]
     },
     "execution_count": 22,
     "metadata": {},
     "output_type": "execute_result"
    }
   ],
   "source": [
    "write_op"
   ]
  },
  {
   "cell_type": "code",
   "execution_count": 23,
   "metadata": {},
   "outputs": [
    {
     "data": {
      "text/plain": [
       "(8000, 240, 320, 1)"
      ]
     },
     "execution_count": 23,
     "metadata": {},
     "output_type": "execute_result"
    }
   ],
   "source": [
    "train_x.shape"
   ]
  },
  {
   "cell_type": "code",
   "execution_count": 24,
   "metadata": {},
   "outputs": [
    {
     "name": "stdout",
     "output_type": "stream",
     "text": [
      "total steps: 40\n",
      "calc summary\n",
      "calc summary\n",
      "calc summary\n",
      "calc summary\n",
      "calc summary\n",
      "calc summary\n",
      "calc summary\n",
      "calc summary\n",
      "Epoch number 1 Training Accuracy: 0.5375000238418579\n",
      "Test Set Accuracy: 0.8550000190734863\n",
      "calc summary\n",
      "calc summary\n",
      "calc summary\n",
      "calc summary\n",
      "calc summary\n",
      "calc summary\n",
      "calc summary\n",
      "calc summary\n",
      "Epoch number 2 Training Accuracy: 0.949999988079071\n",
      "Test Set Accuracy: 0.7925000190734863\n",
      "calc summary\n",
      "calc summary\n",
      "calc summary\n",
      "calc summary\n",
      "calc summary\n",
      "calc summary\n",
      "calc summary\n",
      "calc summary\n",
      "Epoch number 3 Training Accuracy: 0.9524999856948853\n",
      "Test Set Accuracy: 0.7574999928474426\n",
      "calc summary\n",
      "calc summary\n",
      "calc summary\n",
      "calc summary\n",
      "calc summary\n",
      "calc summary\n",
      "calc summary\n",
      "calc summary\n",
      "Epoch number 4 Training Accuracy: 0.9624999761581421\n",
      "Test Set Accuracy: 0.7774999737739563\n",
      "calc summary\n",
      "calc summary\n",
      "calc summary\n",
      "calc summary\n",
      "calc summary\n",
      "calc summary\n",
      "calc summary\n",
      "calc summary\n",
      "Epoch number 5 Training Accuracy: 0.9700000286102295\n",
      "Test Set Accuracy: 0.8374999761581421\n",
      "calc summary\n",
      "calc summary\n",
      "calc summary\n",
      "calc summary\n",
      "calc summary\n",
      "calc summary\n",
      "calc summary\n",
      "calc summary\n",
      "Epoch number 6 Training Accuracy: 0.9750000238418579\n",
      "Test Set Accuracy: 0.9100000262260437\n",
      "calc summary\n",
      "calc summary\n",
      "calc summary\n",
      "calc summary\n",
      "calc summary\n",
      "calc summary\n",
      "calc summary\n",
      "calc summary\n",
      "Epoch number 7 Training Accuracy: 0.9800000190734863\n",
      "Test Set Accuracy: 0.8199999928474426\n",
      "calc summary\n",
      "calc summary\n",
      "calc summary\n",
      "calc summary\n",
      "calc summary\n",
      "calc summary\n",
      "calc summary\n",
      "calc summary\n",
      "Epoch number 8 Training Accuracy: 0.9850000143051147\n",
      "Test Set Accuracy: 0.949999988079071\n",
      "calc summary\n",
      "calc summary\n",
      "calc summary\n",
      "calc summary\n",
      "calc summary\n",
      "calc summary\n",
      "calc summary\n",
      "calc summary\n",
      "Epoch number 9 Training Accuracy: 0.9850000143051147\n",
      "Test Set Accuracy: 0.949999988079071\n",
      "calc summary\n",
      "calc summary\n",
      "calc summary\n",
      "calc summary\n",
      "calc summary\n",
      "calc summary\n",
      "calc summary\n",
      "calc summary\n",
      "Epoch number 10 Training Accuracy: 0.9900000095367432\n",
      "Test Set Accuracy: 0.9524999856948853\n",
      "calc summary\n",
      "calc summary\n",
      "calc summary\n",
      "calc summary\n",
      "calc summary\n",
      "calc summary\n",
      "calc summary\n",
      "calc summary\n",
      "Epoch number 11 Training Accuracy: 0.9900000095367432\n",
      "Test Set Accuracy: 0.9225000143051147\n",
      "calc summary\n",
      "calc summary\n",
      "calc summary\n",
      "calc summary\n",
      "calc summary\n",
      "calc summary\n",
      "calc summary\n",
      "calc summary\n",
      "Epoch number 12 Training Accuracy: 0.9950000047683716\n",
      "Test Set Accuracy: 0.9725000262260437\n",
      "calc summary\n",
      "calc summary\n",
      "calc summary\n",
      "calc summary\n",
      "calc summary\n",
      "calc summary\n",
      "calc summary\n",
      "calc summary\n",
      "Epoch number 13 Training Accuracy: 0.9950000047683716\n",
      "Test Set Accuracy: 0.9549999833106995\n",
      "calc summary\n",
      "calc summary\n",
      "calc summary\n",
      "calc summary\n",
      "calc summary\n",
      "calc summary\n",
      "calc summary\n",
      "calc summary\n",
      "Epoch number 14 Training Accuracy: 0.9950000047683716\n",
      "Test Set Accuracy: 0.887499988079071\n",
      "calc summary\n",
      "calc summary\n",
      "calc summary\n",
      "calc summary\n",
      "calc summary\n",
      "calc summary\n",
      "calc summary\n",
      "calc summary\n",
      "Epoch number 15 Training Accuracy: 0.9950000047683716\n",
      "Test Set Accuracy: 0.9474999904632568\n",
      "calc summary\n",
      "calc summary\n",
      "calc summary\n",
      "calc summary\n",
      "calc summary\n",
      "calc summary\n",
      "calc summary\n",
      "calc summary\n",
      "Epoch number 16 Training Accuracy: 1.0\n",
      "Test Set Accuracy: 0.949999988079071\n",
      "calc summary\n",
      "calc summary\n",
      "calc summary\n",
      "calc summary\n",
      "calc summary\n",
      "calc summary\n",
      "calc summary\n",
      "calc summary\n",
      "Epoch number 17 Training Accuracy: 0.9975000023841858\n",
      "Test Set Accuracy: 0.9549999833106995\n",
      "calc summary\n",
      "calc summary\n",
      "calc summary\n",
      "calc summary\n",
      "calc summary\n",
      "calc summary\n",
      "calc summary\n",
      "calc summary\n",
      "Epoch number 18 Training Accuracy: 0.9950000047683716\n",
      "Test Set Accuracy: 0.8675000071525574\n",
      "calc summary\n",
      "calc summary\n",
      "calc summary\n",
      "calc summary\n",
      "calc summary\n",
      "calc summary\n",
      "calc summary\n",
      "calc summary\n",
      "Epoch number 19 Training Accuracy: 1.0\n",
      "Test Set Accuracy: 0.9649999737739563\n",
      "calc summary\n",
      "calc summary\n",
      "calc summary\n",
      "calc summary\n",
      "calc summary\n",
      "calc summary\n",
      "calc summary\n",
      "calc summary\n",
      "Epoch number 20 Training Accuracy: 1.0\n",
      "Test Set Accuracy: 0.9725000262260437\n",
      "calc summary\n",
      "calc summary\n",
      "calc summary\n",
      "calc summary\n",
      "calc summary\n",
      "calc summary\n",
      "calc summary\n",
      "calc summary\n",
      "Epoch number 21 Training Accuracy: 1.0\n",
      "Test Set Accuracy: 0.9649999737739563\n",
      "calc summary\n",
      "calc summary\n",
      "calc summary\n",
      "calc summary\n",
      "calc summary\n",
      "calc summary\n",
      "calc summary\n",
      "calc summary\n",
      "Epoch number 22 Training Accuracy: 1.0\n",
      "Test Set Accuracy: 0.9700000286102295\n",
      "calc summary\n",
      "calc summary\n",
      "calc summary\n",
      "calc summary\n",
      "calc summary\n",
      "calc summary\n",
      "calc summary\n",
      "calc summary\n",
      "Epoch number 23 Training Accuracy: 1.0\n",
      "Test Set Accuracy: 0.9700000286102295\n",
      "calc summary\n",
      "calc summary\n",
      "calc summary\n",
      "calc summary\n",
      "calc summary\n",
      "calc summary\n",
      "calc summary\n",
      "calc summary\n",
      "Epoch number 24 Training Accuracy: 1.0\n",
      "Test Set Accuracy: 0.9800000190734863\n",
      "calc summary\n",
      "calc summary\n",
      "calc summary\n",
      "calc summary\n",
      "calc summary\n",
      "calc summary\n",
      "calc summary\n",
      "calc summary\n",
      "Epoch number 25 Training Accuracy: 1.0\n",
      "Test Set Accuracy: 0.9750000238418579\n",
      "calc summary\n",
      "calc summary\n",
      "calc summary\n",
      "calc summary\n",
      "calc summary\n",
      "calc summary\n",
      "calc summary\n",
      "calc summary\n",
      "Epoch number 26 Training Accuracy: 1.0\n",
      "Test Set Accuracy: 0.9649999737739563\n",
      "calc summary\n",
      "calc summary\n",
      "calc summary\n",
      "calc summary\n",
      "calc summary\n",
      "calc summary\n",
      "calc summary\n",
      "calc summary\n",
      "Epoch number 27 Training Accuracy: 1.0\n",
      "Test Set Accuracy: 0.9825000166893005\n",
      "calc summary\n",
      "calc summary\n",
      "calc summary\n",
      "calc summary\n",
      "calc summary\n",
      "calc summary\n",
      "calc summary\n",
      "calc summary\n",
      "Epoch number 28 Training Accuracy: 1.0\n",
      "Test Set Accuracy: 0.9725000262260437\n",
      "calc summary\n",
      "calc summary\n",
      "calc summary\n",
      "calc summary\n",
      "calc summary\n",
      "calc summary\n",
      "calc summary\n",
      "calc summary\n",
      "Epoch number 29 Training Accuracy: 1.0\n",
      "Test Set Accuracy: 0.9750000238418579\n",
      "calc summary\n",
      "calc summary\n",
      "calc summary\n",
      "calc summary\n",
      "calc summary\n",
      "calc summary\n",
      "calc summary\n",
      "calc summary\n",
      "Epoch number 30 Training Accuracy: 1.0\n",
      "Test Set Accuracy: 0.9700000286102295\n"
     ]
    }
   ],
   "source": [
    "steps = int(train_x.shape[0]/batchSize)\n",
    "print(\"total steps: %s\" % steps)\n",
    "\n",
    "for i in range(numEpochs):\n",
    "    accHist = []\n",
    "    accHist2 = []\n",
    "    train_x, train_y = imf.shuffle(train_x, train_y)\n",
    "    \n",
    "    for ii in range(steps):\n",
    "        #Calculate our current step\n",
    "        # print(\"calc step %s\" % ii)\n",
    "        step = i * steps + ii\n",
    "        batch_from = ii * batchSize\n",
    "        batch_to   = (ii+1) * batchSize\n",
    "        #Feed forward batch of train images into graph and log accuracy\n",
    "        acc = sess.run([accuracy], \n",
    "                       feed_dict={X: train_x[batch_from:batch_to,:,:,:], \n",
    "                                  Y_: train_y[batch_from:batch_to], \n",
    "                                  keepRate1: 1, \n",
    "                                  keepRate2: 1})\n",
    "        \n",
    "        #print(\"step: %s, acc: %s\" % (step, acc))\n",
    "        accHist.append(acc)\n",
    "        \n",
    "        #Back propogate using adam optimizer to update weights and biases.\n",
    "        sess.run(train_step, feed_dict={X: train_x[batch_from:batch_to,:,:,:], \n",
    "                                        Y_: train_y[batch_from:batch_to], \n",
    "                                        keepRate1: 0.75, \n",
    "                                        keepRate2: 0.75})\n",
    "        \n",
    "        if step % 5 == 0:\n",
    "            print(\"calc summary\")\n",
    "            # Get Train Summary for one batch and add summary to TensorBoard\n",
    "            summary = sess.run(write_op, feed_dict={X: train_x[(ii*batchSize):((ii+1)*batchSize),:,:,:], \n",
    "                                                    Y_: train_y[(ii*batchSize):((ii+1)*batchSize)], \n",
    "                                                    keepRate1: 1, \n",
    "                                                    keepRate2: 1})\n",
    "            writer_1.add_summary(summary, step)\n",
    "            writer_1.flush()\n",
    "            \n",
    "            # Get Test Summary on random 10 test images and add summary to TensorBoard\n",
    "#             test_x, test_y = imf.shuffle(test_x, test_y)\n",
    "            # num_test_samples = round(len(test_x) * 0.5)\n",
    "            \n",
    "            summary = sess.run(write_op, feed_dict={X: test_x[0:batchSize,:,:,:], \n",
    "                                                     Y_: test_y[0:batchSize],\n",
    "                                                     keepRate1: 1,\n",
    "                                                     keepRate2: 1})\n",
    "            writer_2.add_summary(summary, step)\n",
    "#             writer_2.add_summary(wo_bp, step)\n",
    "            writer_2.flush()\n",
    "            \n",
    "#            print(\"step number: %s, training accuracy: %s\" % (step, np.median(accHist)))\n",
    "\n",
    "        \n",
    "    \n",
    "    print('Epoch number {} Training Accuracy: {}'.format(i+1, np.median(accHist)))\n",
    "    \n",
    "    #Feed forward all test images into graph and log accuracy\n",
    "    for iii in range(int(test_x.shape[0]/batchSize)):\n",
    "        step = i * steps + iii\n",
    "        \n",
    "        acc = sess.run(accuracy, feed_dict={X: test_x[(iii*batchSize):((iii+1)*batchSize),:,:,:],\n",
    "                                            Y_: test_y[(iii*batchSize):((iii+1)*batchSize)],\n",
    "                                            keepRate1: 1,\n",
    "                                            keepRate2: 1})\n",
    "        if False:\n",
    "            writer_2.add_summary(wo_t, step)\n",
    "            writer_2.flush()\n",
    "            \n",
    "        accHist2.append(acc)\n",
    "    print(\"Test Set Accuracy: {}\".format(np.median(accHist2)))"
   ]
  },
  {
   "cell_type": "code",
   "execution_count": 28,
   "metadata": {
    "scrolled": true
   },
   "outputs": [
    {
     "ename": "ValueError",
     "evalue": "Cannot evaluate tensor using `eval()`: No default session is registered. Use `with sess.as_default()` or pass an explicit session to `eval(session=sess)`",
     "output_type": "error",
     "traceback": [
      "\u001b[0;31m---------------------------------------------------------------------------\u001b[0m",
      "\u001b[0;31mValueError\u001b[0m                                Traceback (most recent call last)",
      "\u001b[0;32m<ipython-input-28-d60ba21662c7>\u001b[0m in \u001b[0;36m<module>\u001b[0;34m()\u001b[0m\n\u001b[1;32m      1\u001b[0m \u001b[0mimage\u001b[0m \u001b[0;34m=\u001b[0m \u001b[0mtest_x\u001b[0m\u001b[0;34m[\u001b[0m\u001b[0;36m200\u001b[0m\u001b[0;34m]\u001b[0m\u001b[0;34m\u001b[0m\u001b[0m\n\u001b[1;32m      2\u001b[0m \u001b[0mimage\u001b[0m \u001b[0;34m=\u001b[0m \u001b[0mimage\u001b[0m\u001b[0;34m.\u001b[0m\u001b[0mreshape\u001b[0m\u001b[0;34m(\u001b[0m\u001b[0;34m[\u001b[0m\u001b[0;36m1\u001b[0m\u001b[0;34m,\u001b[0m \u001b[0;36m240\u001b[0m\u001b[0;34m,\u001b[0m \u001b[0;36m320\u001b[0m\u001b[0;34m,\u001b[0m \u001b[0;36m1\u001b[0m\u001b[0;34m]\u001b[0m\u001b[0;34m)\u001b[0m\u001b[0;34m\u001b[0m\u001b[0m\n\u001b[0;32m----> 3\u001b[0;31m \u001b[0mH\u001b[0m \u001b[0;34m=\u001b[0m \u001b[0mconv1_2\u001b[0m\u001b[0;34m.\u001b[0m\u001b[0meval\u001b[0m\u001b[0;34m(\u001b[0m\u001b[0mfeed_dict\u001b[0m \u001b[0;34m=\u001b[0m \u001b[0;34m{\u001b[0m\u001b[0mX\u001b[0m\u001b[0;34m:\u001b[0m \u001b[0mimage\u001b[0m\u001b[0;34m,\u001b[0m \u001b[0mkeepRate1\u001b[0m\u001b[0;34m:\u001b[0m \u001b[0;36m1\u001b[0m\u001b[0;34m}\u001b[0m\u001b[0;34m)\u001b[0m\u001b[0;34m\u001b[0m\u001b[0m\n\u001b[0m\u001b[1;32m      4\u001b[0m \u001b[0;31m#H1 = conv2_2.eval(feed_dict= {X: image})\u001b[0m\u001b[0;34m\u001b[0m\u001b[0;34m\u001b[0m\u001b[0m\n\u001b[1;32m      5\u001b[0m \u001b[0;34m\u001b[0m\u001b[0m\n",
      "\u001b[0;32m~/.conda/envs/tensorflow/lib/python3.6/site-packages/tensorflow/python/framework/ops.py\u001b[0m in \u001b[0;36meval\u001b[0;34m(self, feed_dict, session)\u001b[0m\n\u001b[1;32m    539\u001b[0m \u001b[0;34m\u001b[0m\u001b[0m\n\u001b[1;32m    540\u001b[0m     \"\"\"\n\u001b[0;32m--> 541\u001b[0;31m     \u001b[0;32mreturn\u001b[0m \u001b[0m_eval_using_default_session\u001b[0m\u001b[0;34m(\u001b[0m\u001b[0mself\u001b[0m\u001b[0;34m,\u001b[0m \u001b[0mfeed_dict\u001b[0m\u001b[0;34m,\u001b[0m \u001b[0mself\u001b[0m\u001b[0;34m.\u001b[0m\u001b[0mgraph\u001b[0m\u001b[0;34m,\u001b[0m \u001b[0msession\u001b[0m\u001b[0;34m)\u001b[0m\u001b[0;34m\u001b[0m\u001b[0m\n\u001b[0m\u001b[1;32m    542\u001b[0m \u001b[0;34m\u001b[0m\u001b[0m\n\u001b[1;32m    543\u001b[0m \u001b[0;34m\u001b[0m\u001b[0m\n",
      "\u001b[0;32m~/.conda/envs/tensorflow/lib/python3.6/site-packages/tensorflow/python/framework/ops.py\u001b[0m in \u001b[0;36m_eval_using_default_session\u001b[0;34m(tensors, feed_dict, graph, session)\u001b[0m\n\u001b[1;32m   4069\u001b[0m     \u001b[0msession\u001b[0m \u001b[0;34m=\u001b[0m \u001b[0mget_default_session\u001b[0m\u001b[0;34m(\u001b[0m\u001b[0;34m)\u001b[0m\u001b[0;34m\u001b[0m\u001b[0m\n\u001b[1;32m   4070\u001b[0m     \u001b[0;32mif\u001b[0m \u001b[0msession\u001b[0m \u001b[0;32mis\u001b[0m \u001b[0;32mNone\u001b[0m\u001b[0;34m:\u001b[0m\u001b[0;34m\u001b[0m\u001b[0m\n\u001b[0;32m-> 4071\u001b[0;31m       raise ValueError(\"Cannot evaluate tensor using `eval()`: No default \"\n\u001b[0m\u001b[1;32m   4072\u001b[0m                        \u001b[0;34m\"session is registered. Use `with \"\u001b[0m\u001b[0;34m\u001b[0m\u001b[0m\n\u001b[1;32m   4073\u001b[0m                        \u001b[0;34m\"sess.as_default()` or pass an explicit session to \"\u001b[0m\u001b[0;34m\u001b[0m\u001b[0m\n",
      "\u001b[0;31mValueError\u001b[0m: Cannot evaluate tensor using `eval()`: No default session is registered. Use `with sess.as_default()` or pass an explicit session to `eval(session=sess)`"
     ]
    }
   ],
   "source": [
    "image = test_x[200]\n",
    "image = image.reshape([1, 240, 320, 1])\n",
    "H = conv1_2.eval(feed_dict = {X: image, keepRate1: 1})\n",
    "#H1 = conv2_2.eval(feed_dict= {X: image})\n",
    "\n",
    "plt.ion()\n",
    "\n",
    "for i in range(H.shape[3]):\n",
    "    plt.matshow(H[0, :, :, i])\n",
    "    plt.title(i)\n",
    "    plt.colorbar()\n",
    "plt.show()"
   ]
  },
  {
   "cell_type": "code",
   "execution_count": 26,
   "metadata": {
    "collapsed": true
   },
   "outputs": [],
   "source": [
    "#sess.close()"
   ]
  },
  {
   "cell_type": "code",
   "execution_count": 27,
   "metadata": {},
   "outputs": [
    {
     "ename": "RuntimeError",
     "evalue": "Attempted to use a closed Session.",
     "output_type": "error",
     "traceback": [
      "\u001b[0;31m---------------------------------------------------------------------------\u001b[0m",
      "\u001b[0;31mRuntimeError\u001b[0m                              Traceback (most recent call last)",
      "\u001b[0;32m<ipython-input-27-c5963e0b42d6>\u001b[0m in \u001b[0;36m<module>\u001b[0;34m()\u001b[0m\n\u001b[0;32m----> 1\u001b[0;31m \u001b[0mF\u001b[0m \u001b[0;34m=\u001b[0m \u001b[0mbiases\u001b[0m\u001b[0;34m.\u001b[0m\u001b[0meval\u001b[0m\u001b[0;34m(\u001b[0m\u001b[0msess\u001b[0m\u001b[0;34m)\u001b[0m\u001b[0;34m\u001b[0m\u001b[0m\n\u001b[0m\u001b[1;32m      2\u001b[0m \u001b[0;34m\u001b[0m\u001b[0m\n\u001b[1;32m      3\u001b[0m \u001b[0mplt\u001b[0m\u001b[0;34m.\u001b[0m\u001b[0mion\u001b[0m\u001b[0;34m(\u001b[0m\u001b[0;34m)\u001b[0m\u001b[0;34m\u001b[0m\u001b[0m\n\u001b[1;32m      4\u001b[0m \u001b[0;34m\u001b[0m\u001b[0m\n\u001b[1;32m      5\u001b[0m \u001b[0;32mfor\u001b[0m \u001b[0mi\u001b[0m \u001b[0;32min\u001b[0m \u001b[0mrange\u001b[0m\u001b[0;34m(\u001b[0m\u001b[0mF\u001b[0m\u001b[0;34m.\u001b[0m\u001b[0mshape\u001b[0m\u001b[0;34m[\u001b[0m\u001b[0;36m3\u001b[0m\u001b[0;34m]\u001b[0m\u001b[0;34m)\u001b[0m\u001b[0;34m:\u001b[0m\u001b[0;34m\u001b[0m\u001b[0m\n",
      "\u001b[0;32m~/.conda/envs/tensorflow/lib/python3.6/site-packages/tensorflow/python/ops/variables.py\u001b[0m in \u001b[0;36meval\u001b[0;34m(self, session)\u001b[0m\n\u001b[1;32m    472\u001b[0m       \u001b[0mA\u001b[0m \u001b[0mnumpy\u001b[0m\u001b[0;31m \u001b[0m\u001b[0;31m`\u001b[0m\u001b[0mndarray\u001b[0m\u001b[0;31m`\u001b[0m \u001b[0;32mwith\u001b[0m \u001b[0ma\u001b[0m \u001b[0mcopy\u001b[0m \u001b[0mof\u001b[0m \u001b[0mthe\u001b[0m \u001b[0mvalue\u001b[0m \u001b[0mof\u001b[0m \u001b[0mthis\u001b[0m \u001b[0mvariable\u001b[0m\u001b[0;34m.\u001b[0m\u001b[0;34m\u001b[0m\u001b[0m\n\u001b[1;32m    473\u001b[0m     \"\"\"\n\u001b[0;32m--> 474\u001b[0;31m     \u001b[0;32mreturn\u001b[0m \u001b[0mself\u001b[0m\u001b[0;34m.\u001b[0m\u001b[0m_variable\u001b[0m\u001b[0;34m.\u001b[0m\u001b[0meval\u001b[0m\u001b[0;34m(\u001b[0m\u001b[0msession\u001b[0m\u001b[0;34m=\u001b[0m\u001b[0msession\u001b[0m\u001b[0;34m)\u001b[0m\u001b[0;34m\u001b[0m\u001b[0m\n\u001b[0m\u001b[1;32m    475\u001b[0m \u001b[0;34m\u001b[0m\u001b[0m\n\u001b[1;32m    476\u001b[0m   \u001b[0;32mdef\u001b[0m \u001b[0minitialized_value\u001b[0m\u001b[0;34m(\u001b[0m\u001b[0mself\u001b[0m\u001b[0;34m)\u001b[0m\u001b[0;34m:\u001b[0m\u001b[0;34m\u001b[0m\u001b[0m\n",
      "\u001b[0;32m~/.conda/envs/tensorflow/lib/python3.6/site-packages/tensorflow/python/framework/ops.py\u001b[0m in \u001b[0;36meval\u001b[0;34m(self, feed_dict, session)\u001b[0m\n\u001b[1;32m    539\u001b[0m \u001b[0;34m\u001b[0m\u001b[0m\n\u001b[1;32m    540\u001b[0m     \"\"\"\n\u001b[0;32m--> 541\u001b[0;31m     \u001b[0;32mreturn\u001b[0m \u001b[0m_eval_using_default_session\u001b[0m\u001b[0;34m(\u001b[0m\u001b[0mself\u001b[0m\u001b[0;34m,\u001b[0m \u001b[0mfeed_dict\u001b[0m\u001b[0;34m,\u001b[0m \u001b[0mself\u001b[0m\u001b[0;34m.\u001b[0m\u001b[0mgraph\u001b[0m\u001b[0;34m,\u001b[0m \u001b[0msession\u001b[0m\u001b[0;34m)\u001b[0m\u001b[0;34m\u001b[0m\u001b[0m\n\u001b[0m\u001b[1;32m    542\u001b[0m \u001b[0;34m\u001b[0m\u001b[0m\n\u001b[1;32m    543\u001b[0m \u001b[0;34m\u001b[0m\u001b[0m\n",
      "\u001b[0;32m~/.conda/envs/tensorflow/lib/python3.6/site-packages/tensorflow/python/framework/ops.py\u001b[0m in \u001b[0;36m_eval_using_default_session\u001b[0;34m(tensors, feed_dict, graph, session)\u001b[0m\n\u001b[1;32m   4083\u001b[0m                        \u001b[0;34m\"the tensor's graph is different from the session's \"\u001b[0m\u001b[0;34m\u001b[0m\u001b[0m\n\u001b[1;32m   4084\u001b[0m                        \"graph.\")\n\u001b[0;32m-> 4085\u001b[0;31m   \u001b[0;32mreturn\u001b[0m \u001b[0msession\u001b[0m\u001b[0;34m.\u001b[0m\u001b[0mrun\u001b[0m\u001b[0;34m(\u001b[0m\u001b[0mtensors\u001b[0m\u001b[0;34m,\u001b[0m \u001b[0mfeed_dict\u001b[0m\u001b[0;34m)\u001b[0m\u001b[0;34m\u001b[0m\u001b[0m\n\u001b[0m\u001b[1;32m   4086\u001b[0m \u001b[0;34m\u001b[0m\u001b[0m\n\u001b[1;32m   4087\u001b[0m \u001b[0;34m\u001b[0m\u001b[0m\n",
      "\u001b[0;32m~/.conda/envs/tensorflow/lib/python3.6/site-packages/tensorflow/python/client/session.py\u001b[0m in \u001b[0;36mrun\u001b[0;34m(self, fetches, feed_dict, options, run_metadata)\u001b[0m\n\u001b[1;32m    893\u001b[0m     \u001b[0;32mtry\u001b[0m\u001b[0;34m:\u001b[0m\u001b[0;34m\u001b[0m\u001b[0m\n\u001b[1;32m    894\u001b[0m       result = self._run(None, fetches, feed_dict, options_ptr,\n\u001b[0;32m--> 895\u001b[0;31m                          run_metadata_ptr)\n\u001b[0m\u001b[1;32m    896\u001b[0m       \u001b[0;32mif\u001b[0m \u001b[0mrun_metadata\u001b[0m\u001b[0;34m:\u001b[0m\u001b[0;34m\u001b[0m\u001b[0m\n\u001b[1;32m    897\u001b[0m         \u001b[0mproto_data\u001b[0m \u001b[0;34m=\u001b[0m \u001b[0mtf_session\u001b[0m\u001b[0;34m.\u001b[0m\u001b[0mTF_GetBuffer\u001b[0m\u001b[0;34m(\u001b[0m\u001b[0mrun_metadata_ptr\u001b[0m\u001b[0;34m)\u001b[0m\u001b[0;34m\u001b[0m\u001b[0m\n",
      "\u001b[0;32m~/.conda/envs/tensorflow/lib/python3.6/site-packages/tensorflow/python/client/session.py\u001b[0m in \u001b[0;36m_run\u001b[0;34m(self, handle, fetches, feed_dict, options, run_metadata)\u001b[0m\n\u001b[1;32m   1049\u001b[0m     \u001b[0;31m# Check session.\u001b[0m\u001b[0;34m\u001b[0m\u001b[0;34m\u001b[0m\u001b[0m\n\u001b[1;32m   1050\u001b[0m     \u001b[0;32mif\u001b[0m \u001b[0mself\u001b[0m\u001b[0;34m.\u001b[0m\u001b[0m_closed\u001b[0m\u001b[0;34m:\u001b[0m\u001b[0;34m\u001b[0m\u001b[0m\n\u001b[0;32m-> 1051\u001b[0;31m       \u001b[0;32mraise\u001b[0m \u001b[0mRuntimeError\u001b[0m\u001b[0;34m(\u001b[0m\u001b[0;34m'Attempted to use a closed Session.'\u001b[0m\u001b[0;34m)\u001b[0m\u001b[0;34m\u001b[0m\u001b[0m\n\u001b[0m\u001b[1;32m   1052\u001b[0m     \u001b[0;32mif\u001b[0m \u001b[0mself\u001b[0m\u001b[0;34m.\u001b[0m\u001b[0mgraph\u001b[0m\u001b[0;34m.\u001b[0m\u001b[0mversion\u001b[0m \u001b[0;34m==\u001b[0m \u001b[0;36m0\u001b[0m\u001b[0;34m:\u001b[0m\u001b[0;34m\u001b[0m\u001b[0m\n\u001b[1;32m   1053\u001b[0m       raise RuntimeError('The Session graph is empty.  Add operations to the '\n",
      "\u001b[0;31mRuntimeError\u001b[0m: Attempted to use a closed Session."
     ]
    }
   ],
   "source": [
    "F = biases.eval(sess)\n",
    "\n",
    "plt.ion()\n",
    "\n",
    "for i in range(F.shape[3]):\n",
    "    plt.matshow(F[0, :, :, i])\n",
    "    plt.title(i)\n",
    "    plt.colorbar()\n",
    "plt.show()"
   ]
  }
 ],
 "metadata": {
  "kernelspec": {
   "display_name": "Python 3",
   "language": "python",
   "name": "python3"
  },
  "language_info": {
   "codemirror_mode": {
    "name": "ipython",
    "version": 3
   },
   "file_extension": ".py",
   "mimetype": "text/x-python",
   "name": "python",
   "nbconvert_exporter": "python",
   "pygments_lexer": "ipython3",
   "version": "3.6.2"
  }
 },
 "nbformat": 4,
 "nbformat_minor": 2
}
