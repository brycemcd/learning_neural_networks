{
 "cells": [
  {
   "cell_type": "markdown",
   "metadata": {},
   "source": [
    "## Football CNN\n",
    "\n",
    "This notebook will emulate the CNN created in `2017-10-14-CNN-from-scratch.ipynb` and apply the architecture of the CNN to the football images data set in order to classify an image as \"football game\" or \"other\""
   ]
  },
  {
   "cell_type": "code",
   "execution_count": 1,
   "metadata": {
    "collapsed": true
   },
   "outputs": [],
   "source": [
    "import os\n",
    "import tensorflow as tf\n",
    "import scipy.ndimage\n",
    "from scipy.misc import imsave\n",
    "import matplotlib.pyplot as plt\n",
    "import numpy as np\n",
    "\n",
    "import imFunctions as imf\n",
    "\n",
    "%matplotlib inline"
   ]
  },
  {
   "cell_type": "markdown",
   "metadata": {},
   "source": [
    "## Organize Images Into Training/Test sets\n",
    "\n",
    "Arrange images to create a test and training data sets\n",
    "\n",
    "NOTE: due to some other processing I do (playing around with ffmpeg, capturing from the camera etc), I have a ton of images ready for learning already in `~/football_imgs/{game,ad}`. In order to emulate the tutorial more closely, I'm going to arrange the folder structure similarly to the tutorial but symlink the images in a directory structure I have created for this notebook's purpose.\n",
    "\n",
    "The directory structure for this notebook's purpose is:\n",
    "\n",
    "{game,ad}/{train,test}"
   ]
  },
  {
   "cell_type": "code",
   "execution_count": 2,
   "metadata": {
    "collapsed": true
   },
   "outputs": [],
   "source": [
    "game_img_src_dir = '/home/brycemcd/football_imgs/game/small/'\n",
    "ad_img_src_dir = '/home/brycemcd/football_imgs/ad/images/small/'\n",
    "\n",
    "training_game_img_src_dir = 'data/football/game/train/'\n",
    "testing_game_img_src_dir = 'data/football/game/test/'\n",
    "training_ad_img_src_dir = 'data/football/ad/train/'\n",
    "testing_ad_img_src_dir = 'data/football/ad/test/'\n",
    "\n",
    "num_classes = 2"
   ]
  },
  {
   "cell_type": "code",
   "execution_count": null,
   "metadata": {},
   "outputs": [],
   "source": [
    "game_imgs = os.listdir('/home/brycemcd/football_imgs/game/small/')\n",
    "game_imgs[0:5]"
   ]
  },
  {
   "cell_type": "code",
   "execution_count": null,
   "metadata": {
    "collapsed": true
   },
   "outputs": [],
   "source": [
    "ad_imgs = os.listdir('/home/brycemcd/football_imgs/ad/images/small/')\n",
    "ad_imgs[0:5]"
   ]
  },
  {
   "cell_type": "code",
   "execution_count": null,
   "metadata": {
    "collapsed": true
   },
   "outputs": [],
   "source": [
    "print(\"game imgs count: %s\" % len(game_imgs))\n",
    "print(\"ad imgs count: %s\" % len(ad_imgs))"
   ]
  },
  {
   "cell_type": "code",
   "execution_count": null,
   "metadata": {
    "collapsed": true
   },
   "outputs": [],
   "source": [
    "game_train_cnt = round(len(game_imgs) * 0.85)\n",
    "game_test_cnt  = len(game_imgs) - game_train_cnt"
   ]
  },
  {
   "cell_type": "code",
   "execution_count": null,
   "metadata": {
    "collapsed": true
   },
   "outputs": [],
   "source": [
    "import random\n",
    "\n",
    "def create_training_data(img_src_dir, img_dst_dir, training_percentage):\n",
    "    \"\"\"Get a random set of images for training and symlink them to this notebook's directory structure\"\"\"\n",
    "    all_imgs = os.listdir(img_src_dir)\n",
    "    training_img_cnt = len(all_imgs) * training_percentage\n",
    "    \n",
    "    train_imgs = []\n",
    "\n",
    "    while(len(os.listdir(img_dst_dir)) < training_img_cnt):\n",
    "        img = random.choice(all_imgs)\n",
    "\n",
    "        try:\n",
    "            os.symlink( img_src_dir + img,\n",
    "                        img_dst_dir + img)\n",
    "            train_imgs.append(img)\n",
    "            all_imgs.remove(img)\n",
    "        except FileExistsError:\n",
    "            continue\n",
    "    return train_imgs"
   ]
  },
  {
   "cell_type": "code",
   "execution_count": null,
   "metadata": {
    "collapsed": true
   },
   "outputs": [],
   "source": [
    "def create_testing_data(img_src_dir, img_dst_dir, training_dir):\n",
    "    \"take all images that are not appropriated for training and make them test images\"\n",
    "    all_imgs = os.listdir(img_src_dir)\n",
    "    training_imgs = os.listdir(training_dir)\n",
    "    testing_imgs = set(all_imgs) - set(training_imgs)\n",
    "\n",
    "    for img in testing_imgs:\n",
    "        os.symlink( img_src_dir + img,\n",
    "                    img_dst_dir + img)\n"
   ]
  },
  {
   "cell_type": "code",
   "execution_count": null,
   "metadata": {
    "collapsed": true
   },
   "outputs": [],
   "source": [
    "create_training_data(game_img_src_dir, training_game_img_src_dir, 0.85)\n",
    "create_testing_data(game_img_src_dir, testing_game_img_src_dir, training_game_img_src_dir)"
   ]
  },
  {
   "cell_type": "code",
   "execution_count": null,
   "metadata": {},
   "outputs": [],
   "source": [
    "len(os.listdir(training_game_img_src_dir))"
   ]
  },
  {
   "cell_type": "code",
   "execution_count": null,
   "metadata": {},
   "outputs": [],
   "source": [
    "len(os.listdir(testing_game_img_src_dir))"
   ]
  },
  {
   "cell_type": "code",
   "execution_count": null,
   "metadata": {
    "collapsed": true
   },
   "outputs": [],
   "source": [
    "# This should be 0\n",
    "training_img_set = set(os.listdir(training_game_img_src_dir))\n",
    "testing_img_set = set(os.listdir(testing_game_img_src_dir))\n",
    "len(training_img_set.intersection(testing_img_set))"
   ]
  },
  {
   "cell_type": "code",
   "execution_count": null,
   "metadata": {
    "collapsed": true
   },
   "outputs": [],
   "source": [
    "create_training_data(ad_img_src_dir, training_ad_img_src_dir, 0.85)\n",
    "create_testing_data(ad_img_src_dir, testing_ad_img_src_dir, training_ad_img_src_dir)"
   ]
  },
  {
   "cell_type": "code",
   "execution_count": null,
   "metadata": {
    "collapsed": true
   },
   "outputs": [],
   "source": [
    "len(os.listdir(training_ad_img_src_dir))"
   ]
  },
  {
   "cell_type": "code",
   "execution_count": null,
   "metadata": {
    "collapsed": true
   },
   "outputs": [],
   "source": [
    "len(os.listdir(testing_ad_img_src_dir))"
   ]
  },
  {
   "cell_type": "code",
   "execution_count": null,
   "metadata": {
    "collapsed": true
   },
   "outputs": [],
   "source": [
    "# This should be 0\n",
    "training_img_set = set(os.listdir(training_ad_img_src_dir))\n",
    "testing_img_set = set(os.listdir(testing_ad_img_src_dir))\n",
    "len(training_img_set.intersection(testing_img_set))"
   ]
  },
  {
   "cell_type": "code",
   "execution_count": 3,
   "metadata": {},
   "outputs": [
    {
     "name": "stdout",
     "output_type": "stream",
     "text": [
      "adding games to training set\n",
      "adding not games to training set\n",
      "adding games to test set\n",
      "addming not games to test set\n"
     ]
    }
   ],
   "source": [
    " # NOTE: in graphics the image is 320x240 (wxh), in linear alg. the shape is 240x320 (nxm)\n",
    "num_samples = 4000\n",
    "data_shape = [1, 240, 320, 1]\n",
    "\n",
    "train_x = np.zeros(data_shape)\n",
    "train_y = np.zeros([1, num_classes])\n",
    "\n",
    "test_x = np.zeros(data_shape)\n",
    "test_y = np.zeros([1, num_classes])\n",
    "\n",
    "training_game_img_set = set(os.listdir(training_game_img_src_dir))\n",
    "training_ad_img_set = set(os.listdir(training_ad_img_src_dir))\n",
    "\n",
    "testing_game_img_set = set(os.listdir(testing_game_img_src_dir))\n",
    "testing_ad_img_set = set(os.listdir(testing_ad_img_src_dir))\n",
    "\n",
    "# TODO: make this a function ... sheesh\n",
    "print(\"adding games to training set\")\n",
    "for img in list(training_game_img_set)[0:num_samples]:\n",
    "    full_img = training_game_img_src_dir + img\n",
    "    im = scipy.misc.imread(full_img, flatten=True, mode=\"I\").astype(np.float32)\n",
    "    im = im.reshape(data_shape)\n",
    "    #print(im)\n",
    "    train_x = np.vstack((train_x, im))\n",
    "    train_y = np.vstack((train_y, [1, 0]))\n",
    "\n",
    "print(\"adding not games to training set\")\n",
    "for img in list(training_ad_img_set)[0:num_samples]:\n",
    "    full_img = training_ad_img_src_dir + img\n",
    "    im = scipy.misc.imread(full_img, flatten=True, mode=\"I\").astype(np.float32)\n",
    "    im = im.reshape(data_shape)\n",
    "    #print(im)\n",
    "    train_x = np.vstack((train_x, im))\n",
    "    train_y = np.vstack((train_y, [0, 1]))\n",
    "\n",
    "print(\"adding games to test set\")\n",
    "for img in list(testing_game_img_set)[0: round(num_samples * 0.25)]:\n",
    "    full_img = testing_game_img_src_dir + img\n",
    "    im = scipy.misc.imread(full_img, flatten=True, mode=\"I\").astype(np.float32)\n",
    "    im = im.reshape(data_shape)\n",
    "    #print(im)\n",
    "    test_x = np.vstack((test_x, im))\n",
    "    test_y = np.vstack((test_y, [1, 0]))\n",
    "\n",
    "print(\"addming not games to test set\")\n",
    "for img in list(testing_ad_img_set)[0: round(num_samples * 0.25)]:\n",
    "    full_img = testing_ad_img_src_dir + img\n",
    "    im = scipy.misc.imread(full_img, flatten=True, mode=\"I\").astype(np.float32)\n",
    "    im = im.reshape(data_shape)\n",
    "    #print(im)\n",
    "    test_x = np.vstack((test_x, im))\n",
    "    test_y = np.vstack((test_y, [0, 1]))\n",
    "    \n",
    "train_x -= np.mean([train_x], axis=1)\n",
    "test_x -= np.mean([train_x], axis=1)\n",
    "\n",
    "train_x = train_x[1:]\n",
    "train_y = train_y[1:]\n",
    "\n",
    "test_x = test_x[1:]\n",
    "test_y = test_y[1:]"
   ]
  },
  {
   "cell_type": "code",
   "execution_count": 20,
   "metadata": {},
   "outputs": [
    {
     "name": "stdout",
     "output_type": "stream",
     "text": [
      "# of training samples: 8000\n",
      "# of training labels: 8000\n",
      "# of testing samples: 2000\n",
      "# of testing labels: 2000\n"
     ]
    }
   ],
   "source": [
    "print(\"# of training samples: %s\" % len(train_x))\n",
    "print(\"# of training labels: %s\" % len(train_y))\n",
    "\n",
    "print(\"# of testing samples: %s\" % len(test_x))\n",
    "print(\"# of testing labels: %s\" % len(test_y))\n",
    "\n",
    "np.save('data/football/train_x', train_x)\n",
    "np.save('data/football/train_y', train_y)\n",
    "\n",
    "np.save('data/football/test_x', test_x)\n",
    "np.save('data/football/test_y', test_y)"
   ]
  },
  {
   "cell_type": "markdown",
   "metadata": {},
   "source": [
    "## Network Architecture"
   ]
  },
  {
   "cell_type": "code",
   "execution_count": 5,
   "metadata": {
    "collapsed": true
   },
   "outputs": [],
   "source": [
    "X = tf.placeholder(tf.float32, shape=(None, 240, 320, 1))\n",
    "Y_ = tf.placeholder(tf.float32, [None, num_classes])\n",
    "\n",
    "keepRate1 = tf.placeholder(tf.float32)\n",
    "keepRate2 = tf.placeholder(tf.float32)"
   ]
  },
  {
   "cell_type": "code",
   "execution_count": 6,
   "metadata": {
    "collapsed": true
   },
   "outputs": [],
   "source": [
    "# CONVOLUTION 1 - 1\n",
    "with tf.name_scope('conv1_1'):\n",
    "    num_filters1_1 = 32\n",
    "    filter1_1 = tf.Variable(tf.truncated_normal([3, 3, 1, num_filters1_1], \n",
    "                                                dtype=tf.float32,\n",
    "                                                stddev=1e-1), \n",
    "                            name='weights1_1')\n",
    "    stride = [1,1,1,1]\n",
    "    conv = tf.nn.conv2d(X, filter1_1, stride, padding='SAME')\n",
    "    \n",
    "    biases = tf.Variable(tf.constant(0.0, \n",
    "                                     shape=[num_filters1_1], \n",
    "                                     dtype=tf.float32),\n",
    "                        trainable=True,\n",
    "                        name='biases1_1')\n",
    "    \n",
    "    out = tf.nn.bias_add(conv, biases)\n",
    "    conv1_1 = tf.nn.sigmoid(out) #relu(out)"
   ]
  },
  {
   "cell_type": "code",
   "execution_count": 7,
   "metadata": {
    "collapsed": true
   },
   "outputs": [],
   "source": [
    "# CONVOLUTION 1 - 2\n",
    "with tf.name_scope('conv1_2'):\n",
    "    num_filters1_2 = 32\n",
    "    filter1_2 = tf.Variable(tf.truncated_normal([3, 3, num_filters1_1, num_filters1_2], \n",
    "                                                dtype=tf.float32,\n",
    "                                                stddev=1e-1), \n",
    "                            name='weights1_2')\n",
    "    \n",
    "    stride = [1,1,1,1]\n",
    "    conv = tf.nn.conv2d(conv1_1, filter1_2, stride, padding='SAME')\n",
    "    \n",
    "    biases = tf.Variable(tf.constant(0.0, shape=[num_filters1_2], dtype=tf.float32),\n",
    "                         trainable=True, name='biases1_2')\n",
    "    \n",
    "    out = tf.nn.bias_add(conv, biases)\n",
    "    conv1_2 = tf.nn.relu(out)"
   ]
  },
  {
   "cell_type": "code",
   "execution_count": 8,
   "metadata": {
    "collapsed": true
   },
   "outputs": [],
   "source": [
    "# POOL 1\n",
    "with tf.name_scope('pool1'):\n",
    "    pool1_1 = tf.nn.max_pool(conv1_2,\n",
    "                             ksize=[1, 5, 5, 1],\n",
    "                             strides=[1, 5, 5, 1],\n",
    "                             padding='SAME',\n",
    "                             name='pool1_1')\n",
    "    pool1_1_drop = tf.nn.dropout(pool1_1, keepRate1)"
   ]
  },
  {
   "cell_type": "code",
   "execution_count": 9,
   "metadata": {
    "collapsed": true
   },
   "outputs": [],
   "source": [
    "# CONVOLUTION 2 - 1\n",
    "with tf.name_scope('conv2_1'):\n",
    "    filter2_1 = tf.Variable(tf.truncated_normal([3, 3, 32, 64], dtype=tf.float32,\n",
    "                                                stddev=1e-1), name='weights2_1')\n",
    "    conv = tf.nn.conv2d(pool1_1_drop, filter2_1, [1, 1, 1, 1], padding='SAME')\n",
    "    biases = tf.Variable(tf.constant(0.0, shape=[64], dtype=tf.float32),\n",
    "                         trainable=True, name='biases2_1')\n",
    "    out = tf.nn.bias_add(conv, biases)\n",
    "    conv2_1 = tf.nn.sigmoid(out)\n",
    "    \n",
    "# CONVOLUTION 2 - 2\n",
    "with tf.name_scope('conv2_2'):\n",
    "    filter2_2 = tf.Variable(tf.truncated_normal([3, 3, 64, 64], dtype=tf.float32,\n",
    "                                                stddev=1e-1), name='weights2_2')\n",
    "    conv = tf.nn.conv2d(conv2_1, filter2_2, [1, 1, 1, 1], padding='SAME')\n",
    "    biases = tf.Variable(tf.constant(0.0, shape=[64], dtype=tf.float32),\n",
    "                         trainable=True, name='biases2_2')\n",
    "    out = tf.nn.bias_add(conv, biases)\n",
    "    conv2_2 = tf.nn.relu(out)\n",
    "    \n",
    "# POOL 2\n",
    "with tf.name_scope('pool2'):\n",
    "    pool2_1 = tf.nn.max_pool(conv2_2,\n",
    "                             ksize=[1, 5, 5, 1],\n",
    "                             strides=[1, 5, 5, 1],\n",
    "                             padding='SAME',\n",
    "                             name='pool2_1')\n",
    "    pool2_1_drop = tf.nn.dropout(pool2_1, keepRate1)"
   ]
  },
  {
   "cell_type": "code",
   "execution_count": 10,
   "metadata": {
    "collapsed": true
   },
   "outputs": [],
   "source": [
    "#FULLY CONNECTED 1\n",
    "with tf.name_scope('fc1') as scope:\n",
    "    shape = int(np.prod(pool2_1_drop.get_shape()[1:]))\n",
    "    \n",
    "    fc1w = tf.Variable(tf.truncated_normal([shape, 512], \n",
    "                                           dtype=tf.float32,\n",
    "                                           stddev=1e-1), \n",
    "                       name='weights3_1')\n",
    "    \n",
    "    fc1b = tf.Variable(tf.constant(1.0, shape=[512], dtype=tf.float32),\n",
    "                       trainable=True, \n",
    "                       name='biases3_1')\n",
    "    \n",
    "    pool2_flat = tf.reshape(pool2_1_drop, [-1, shape])\n",
    "    \n",
    "    out = tf.nn.bias_add(tf.matmul(pool2_flat, fc1w), fc1b)\n",
    "    fc1 = tf.nn.relu(out)\n",
    "    fc1_drop = tf.nn.dropout(fc1, keepRate2)"
   ]
  },
  {
   "cell_type": "code",
   "execution_count": 11,
   "metadata": {
    "collapsed": true
   },
   "outputs": [],
   "source": [
    "#FULLY CONNECTED 3 & SOFTMAX OUTPUT\n",
    "with tf.name_scope('softmax') as scope:\n",
    "    fc2w = tf.Variable(tf.truncated_normal([512, num_classes], dtype=tf.float32,\n",
    "                                           stddev=1e-1), name='weights3_2')\n",
    "    \n",
    "    fc2b = tf.Variable(tf.constant(1.0, shape=[num_classes], dtype=tf.float32),\n",
    "                       trainable=True, name='biases3_2')\n",
    "    \n",
    "    Ylogits = tf.nn.bias_add(tf.matmul(fc1_drop, fc2w), fc2b)\n",
    "    \n",
    "    Y = tf.nn.softmax(Ylogits)"
   ]
  },
  {
   "cell_type": "markdown",
   "metadata": {},
   "source": [
    "## Learning"
   ]
  },
  {
   "cell_type": "code",
   "execution_count": 12,
   "metadata": {},
   "outputs": [
    {
     "data": {
      "text/plain": [
       "8000"
      ]
     },
     "execution_count": 12,
     "metadata": {},
     "output_type": "execute_result"
    }
   ],
   "source": [
    "int(train_x.shape[0])"
   ]
  },
  {
   "cell_type": "code",
   "execution_count": 13,
   "metadata": {
    "collapsed": true
   },
   "outputs": [],
   "source": [
    "numEpochs = 3\n",
    "batchSize = 100\n",
    "alpha = 1e-3\n",
    "\n",
    "\n",
    "with tf.name_scope('cross_entropy'):\n",
    "    cross_entropy = tf.nn.softmax_cross_entropy_with_logits(logits=Ylogits, labels=Y_)\n",
    "    loss = tf.reduce_mean(cross_entropy)\n",
    "\n",
    "with tf.name_scope('accuracy'):\n",
    "    correct_prediction = tf.equal(tf.argmax(Y, 1), tf.argmax(Y_, 1))\n",
    "    accuracy = tf.reduce_mean(tf.cast(correct_prediction, tf.float32))\n",
    "\n",
    "with tf.name_scope('train'):\n",
    "    train_step = tf.train.AdamOptimizer(learning_rate=alpha).minimize(loss)"
   ]
  },
  {
   "cell_type": "code",
   "execution_count": 14,
   "metadata": {
    "collapsed": true
   },
   "outputs": [],
   "source": [
    "sess = tf.Session() # TODO make this an interactive session\n",
    "init = tf.global_variables_initializer()\n",
    "sess.run(init)"
   ]
  },
  {
   "cell_type": "code",
   "execution_count": 25,
   "metadata": {},
   "outputs": [
    {
     "data": {
      "text/plain": [
       "'2017-10-19T07:15'"
      ]
     },
     "execution_count": 25,
     "metadata": {},
     "output_type": "execute_result"
    }
   ],
   "source": [
    "from datetime import datetime\n",
    "now = datetime.now().isoformat(timespec='minutes')\n",
    "now"
   ]
  },
  {
   "cell_type": "code",
   "execution_count": 26,
   "metadata": {},
   "outputs": [],
   "source": [
    "import datetime as datetime\n",
    "writer_1 = tf.summary.FileWriter(\"/tmp/football/train-%s\" % now)\n",
    "writer_2 = tf.summary.FileWriter(\"/tmp/football/test-%s\" % now)\n",
    "\n",
    "writer_1.add_graph(sess.graph)\n",
    "\n",
    "tf.summary.scalar('Loss', loss)\n",
    "tf.summary.scalar('Accuracy', accuracy)\n",
    "tf.summary.histogram(\"weights1_1\", filter1_1)\n",
    "write_op = tf.summary.merge_all()"
   ]
  },
  {
   "cell_type": "code",
   "execution_count": 28,
   "metadata": {},
   "outputs": [
    {
     "name": "stdout",
     "output_type": "stream",
     "text": [
      "total steps: 80\n"
     ]
    },
    {
     "name": "stderr",
     "output_type": "stream",
     "text": [
      "/home/brycemcd/anaconda3/lib/python3.6/site-packages/numpy/core/fromnumeric.py:2909: RuntimeWarning: Mean of empty slice.\n",
      "  out=out, **kwargs)\n",
      "/home/brycemcd/anaconda3/lib/python3.6/site-packages/numpy/core/_methods.py:80: RuntimeWarning: invalid value encountered in double_scalars\n",
      "  ret = ret.dtype.type(ret / rcount)\n"
     ]
    },
    {
     "name": "stdout",
     "output_type": "stream",
     "text": [
      "step number: 0, training accuracy: 0.57 test accuracy: nan\n",
      "step number: 5, training accuracy: 0.57 test accuracy: nan\n",
      "step number: 10, training accuracy: 0.53 test accuracy: nan\n",
      "step number: 15, training accuracy: 0.55 test accuracy: nan\n",
      "step number: 20, training accuracy: 0.57 test accuracy: nan\n",
      "step number: 25, training accuracy: 0.645 test accuracy: nan\n",
      "step number: 30, training accuracy: 0.67 test accuracy: nan\n",
      "step number: 35, training accuracy: 0.845 test accuracy: nan\n",
      "step number: 40, training accuracy: 0.9 test accuracy: nan\n",
      "step number: 45, training accuracy: 0.92 test accuracy: nan\n",
      "step number: 50, training accuracy: 0.93 test accuracy: nan\n",
      "step number: 55, training accuracy: 0.935 test accuracy: nan\n",
      "step number: 60, training accuracy: 0.94 test accuracy: nan\n",
      "step number: 65, training accuracy: 0.94 test accuracy: nan\n",
      "step number: 70, training accuracy: 0.94 test accuracy: nan\n",
      "step number: 75, training accuracy: 0.945 test accuracy: nan\n",
      "Epoch number 1 Training Accuracy: 0.949999988079071\n",
      "Test Set Accuracy: 0.5300000309944153\n",
      "step number: 80, training accuracy: 0.97 test accuracy: nan\n",
      "step number: 85, training accuracy: 0.97 test accuracy: nan\n",
      "step number: 90, training accuracy: 0.97 test accuracy: nan\n",
      "step number: 95, training accuracy: 0.97 test accuracy: nan\n",
      "step number: 100, training accuracy: 0.97 test accuracy: nan\n",
      "step number: 105, training accuracy: 0.97 test accuracy: nan\n",
      "step number: 110, training accuracy: 0.97 test accuracy: nan\n",
      "step number: 115, training accuracy: 0.97 test accuracy: nan\n",
      "step number: 120, training accuracy: 0.97 test accuracy: nan\n",
      "step number: 125, training accuracy: 0.97 test accuracy: nan\n",
      "step number: 130, training accuracy: 0.97 test accuracy: nan\n",
      "step number: 135, training accuracy: 0.975 test accuracy: nan\n",
      "step number: 140, training accuracy: 0.98 test accuracy: nan\n",
      "step number: 145, training accuracy: 0.98 test accuracy: nan\n",
      "step number: 150, training accuracy: 0.98 test accuracy: nan\n",
      "step number: 155, training accuracy: 0.98 test accuracy: nan\n",
      "Epoch number 2 Training Accuracy: 0.9800000190734863\n",
      "Test Set Accuracy: 0.9800000190734863\n",
      "step number: 160, training accuracy: 0.99 test accuracy: nan\n",
      "step number: 165, training accuracy: 0.985 test accuracy: nan\n",
      "step number: 170, training accuracy: 0.98 test accuracy: nan\n",
      "step number: 175, training accuracy: 0.98 test accuracy: nan\n",
      "step number: 180, training accuracy: 0.98 test accuracy: nan\n",
      "step number: 185, training accuracy: 0.98 test accuracy: nan\n",
      "step number: 190, training accuracy: 0.98 test accuracy: nan\n",
      "step number: 195, training accuracy: 0.98 test accuracy: nan\n",
      "step number: 200, training accuracy: 0.98 test accuracy: nan\n",
      "step number: 205, training accuracy: 0.98 test accuracy: nan\n",
      "step number: 210, training accuracy: 0.98 test accuracy: nan\n",
      "step number: 215, training accuracy: 0.98 test accuracy: nan\n",
      "step number: 220, training accuracy: 0.98 test accuracy: nan\n",
      "step number: 225, training accuracy: 0.98 test accuracy: nan\n",
      "step number: 230, training accuracy: 0.98 test accuracy: nan\n",
      "step number: 235, training accuracy: 0.985 test accuracy: nan\n",
      "Epoch number 3 Training Accuracy: 0.9800000190734863\n",
      "Test Set Accuracy: 0.9600000381469727\n",
      "step number: 240, training accuracy: 1.0 test accuracy: nan\n",
      "step number: 245, training accuracy: 0.975 test accuracy: nan\n",
      "step number: 250, training accuracy: 0.97 test accuracy: nan\n",
      "step number: 255, training accuracy: 0.975 test accuracy: nan\n",
      "step number: 260, training accuracy: 0.97 test accuracy: nan\n",
      "step number: 265, training accuracy: 0.98 test accuracy: nan\n",
      "step number: 270, training accuracy: 0.98 test accuracy: nan\n",
      "step number: 275, training accuracy: 0.985 test accuracy: nan\n",
      "step number: 280, training accuracy: 0.99 test accuracy: nan\n",
      "step number: 285, training accuracy: 0.99 test accuracy: nan\n",
      "step number: 290, training accuracy: 0.99 test accuracy: nan\n",
      "step number: 295, training accuracy: 0.99 test accuracy: nan\n",
      "step number: 300, training accuracy: 0.99 test accuracy: nan\n",
      "step number: 305, training accuracy: 0.99 test accuracy: nan\n",
      "step number: 310, training accuracy: 0.99 test accuracy: nan\n",
      "step number: 315, training accuracy: 0.99 test accuracy: nan\n",
      "Epoch number 4 Training Accuracy: 0.9900000095367432\n",
      "Test Set Accuracy: 0.6000000238418579\n",
      "step number: 320, training accuracy: 0.97 test accuracy: nan\n",
      "step number: 325, training accuracy: 0.99 test accuracy: nan\n",
      "step number: 330, training accuracy: 0.99 test accuracy: nan\n",
      "step number: 335, training accuracy: 0.99 test accuracy: nan\n",
      "step number: 340, training accuracy: 0.99 test accuracy: nan\n",
      "step number: 345, training accuracy: 0.99 test accuracy: nan\n",
      "step number: 350, training accuracy: 0.99 test accuracy: nan\n",
      "step number: 355, training accuracy: 0.99 test accuracy: nan\n",
      "step number: 360, training accuracy: 0.99 test accuracy: nan\n",
      "step number: 365, training accuracy: 0.99 test accuracy: nan\n",
      "step number: 370, training accuracy: 0.99 test accuracy: nan\n",
      "step number: 375, training accuracy: 0.99 test accuracy: nan\n",
      "step number: 380, training accuracy: 0.99 test accuracy: nan\n",
      "step number: 385, training accuracy: 0.99 test accuracy: nan\n",
      "step number: 390, training accuracy: 0.99 test accuracy: nan\n",
      "step number: 395, training accuracy: 0.99 test accuracy: nan\n",
      "Epoch number 5 Training Accuracy: 0.9900000095367432\n",
      "Test Set Accuracy: 0.5\n",
      "step number: 400, training accuracy: 1.0 test accuracy: nan\n",
      "step number: 405, training accuracy: 0.995 test accuracy: nan\n",
      "step number: 410, training accuracy: 0.99 test accuracy: nan\n",
      "step number: 415, training accuracy: 0.99 test accuracy: nan\n",
      "step number: 420, training accuracy: 0.99 test accuracy: nan\n",
      "step number: 425, training accuracy: 0.99 test accuracy: nan\n",
      "step number: 430, training accuracy: 0.99 test accuracy: nan\n",
      "step number: 435, training accuracy: 0.99 test accuracy: nan\n",
      "step number: 440, training accuracy: 0.99 test accuracy: nan\n",
      "step number: 445, training accuracy: 0.99 test accuracy: nan\n",
      "step number: 450, training accuracy: 0.99 test accuracy: nan\n",
      "step number: 455, training accuracy: 0.99 test accuracy: nan\n",
      "step number: 460, training accuracy: 0.99 test accuracy: nan\n",
      "step number: 465, training accuracy: 0.99 test accuracy: nan\n",
      "step number: 470, training accuracy: 0.99 test accuracy: nan\n",
      "step number: 475, training accuracy: 0.99 test accuracy: nan\n",
      "Epoch number 6 Training Accuracy: 0.9900000095367432\n",
      "Test Set Accuracy: 0.9700000286102295\n",
      "step number: 480, training accuracy: 1.0 test accuracy: nan\n",
      "step number: 485, training accuracy: 1.0 test accuracy: nan\n",
      "step number: 490, training accuracy: 1.0 test accuracy: nan\n",
      "step number: 495, training accuracy: 1.0 test accuracy: nan\n",
      "step number: 500, training accuracy: 1.0 test accuracy: nan\n",
      "step number: 505, training accuracy: 1.0 test accuracy: nan\n",
      "step number: 510, training accuracy: 1.0 test accuracy: nan\n",
      "step number: 515, training accuracy: 1.0 test accuracy: nan\n",
      "step number: 520, training accuracy: 1.0 test accuracy: nan\n",
      "step number: 525, training accuracy: 1.0 test accuracy: nan\n",
      "step number: 530, training accuracy: 1.0 test accuracy: nan\n",
      "step number: 535, training accuracy: 1.0 test accuracy: nan\n",
      "step number: 540, training accuracy: 1.0 test accuracy: nan\n",
      "step number: 545, training accuracy: 1.0 test accuracy: nan\n",
      "step number: 550, training accuracy: 1.0 test accuracy: nan\n",
      "step number: 555, training accuracy: 1.0 test accuracy: nan\n",
      "Epoch number 7 Training Accuracy: 1.0\n",
      "Test Set Accuracy: 0.9650000333786011\n",
      "step number: 560, training accuracy: 0.98 test accuracy: nan\n",
      "step number: 565, training accuracy: 0.985 test accuracy: nan\n",
      "step number: 570, training accuracy: 0.99 test accuracy: nan\n",
      "step number: 575, training accuracy: 0.99 test accuracy: nan\n",
      "step number: 580, training accuracy: 0.99 test accuracy: nan\n",
      "step number: 585, training accuracy: 0.995 test accuracy: nan\n",
      "step number: 590, training accuracy: 1.0 test accuracy: nan\n",
      "step number: 595, training accuracy: 1.0 test accuracy: nan\n",
      "step number: 600, training accuracy: 1.0 test accuracy: nan\n",
      "step number: 605, training accuracy: 0.995 test accuracy: nan\n",
      "step number: 610, training accuracy: 1.0 test accuracy: nan\n",
      "step number: 615, training accuracy: 1.0 test accuracy: nan\n",
      "step number: 620, training accuracy: 1.0 test accuracy: nan\n"
     ]
    },
    {
     "name": "stdout",
     "output_type": "stream",
     "text": [
      "step number: 625, training accuracy: 1.0 test accuracy: nan\n",
      "step number: 630, training accuracy: 1.0 test accuracy: nan\n",
      "step number: 635, training accuracy: 0.99 test accuracy: nan\n",
      "Epoch number 8 Training Accuracy: 0.9950000047683716\n",
      "Test Set Accuracy: 0.9800000190734863\n",
      "step number: 640, training accuracy: 0.99 test accuracy: nan\n",
      "step number: 645, training accuracy: 0.995 test accuracy: nan\n",
      "step number: 650, training accuracy: 1.0 test accuracy: nan\n",
      "step number: 655, training accuracy: 0.99 test accuracy: nan\n",
      "step number: 660, training accuracy: 0.99 test accuracy: nan\n",
      "step number: 665, training accuracy: 0.99 test accuracy: nan\n",
      "step number: 670, training accuracy: 0.99 test accuracy: nan\n",
      "step number: 675, training accuracy: 0.99 test accuracy: nan\n",
      "step number: 680, training accuracy: 0.99 test accuracy: nan\n",
      "step number: 685, training accuracy: 0.99 test accuracy: nan\n",
      "step number: 690, training accuracy: 0.99 test accuracy: nan\n",
      "step number: 695, training accuracy: 0.99 test accuracy: nan\n",
      "step number: 700, training accuracy: 0.99 test accuracy: nan\n",
      "step number: 705, training accuracy: 0.99 test accuracy: nan\n",
      "step number: 710, training accuracy: 0.99 test accuracy: nan\n",
      "step number: 715, training accuracy: 0.99 test accuracy: nan\n",
      "Epoch number 9 Training Accuracy: 0.9900000095367432\n",
      "Test Set Accuracy: 0.9600000381469727\n",
      "step number: 720, training accuracy: 1.0 test accuracy: nan\n",
      "step number: 725, training accuracy: 1.0 test accuracy: nan\n",
      "step number: 730, training accuracy: 1.0 test accuracy: nan\n",
      "step number: 735, training accuracy: 1.0 test accuracy: nan\n",
      "step number: 740, training accuracy: 1.0 test accuracy: nan\n",
      "step number: 745, training accuracy: 1.0 test accuracy: nan\n",
      "step number: 750, training accuracy: 1.0 test accuracy: nan\n",
      "step number: 755, training accuracy: 1.0 test accuracy: nan\n",
      "step number: 760, training accuracy: 1.0 test accuracy: nan\n",
      "step number: 765, training accuracy: 1.0 test accuracy: nan\n",
      "step number: 770, training accuracy: 1.0 test accuracy: nan\n",
      "step number: 775, training accuracy: 1.0 test accuracy: nan\n",
      "step number: 780, training accuracy: 1.0 test accuracy: nan\n",
      "step number: 785, training accuracy: 1.0 test accuracy: nan\n",
      "step number: 790, training accuracy: 1.0 test accuracy: nan\n",
      "step number: 795, training accuracy: 1.0 test accuracy: nan\n",
      "Epoch number 10 Training Accuracy: 1.0\n",
      "Test Set Accuracy: 0.9800000190734863\n",
      "step number: 800, training accuracy: 1.0 test accuracy: nan\n",
      "step number: 805, training accuracy: 1.0 test accuracy: nan\n",
      "step number: 810, training accuracy: 1.0 test accuracy: nan\n",
      "step number: 815, training accuracy: 1.0 test accuracy: nan\n",
      "step number: 820, training accuracy: 1.0 test accuracy: nan\n",
      "step number: 825, training accuracy: 1.0 test accuracy: nan\n",
      "step number: 830, training accuracy: 1.0 test accuracy: nan\n",
      "step number: 835, training accuracy: 1.0 test accuracy: nan\n",
      "step number: 840, training accuracy: 1.0 test accuracy: nan\n",
      "step number: 845, training accuracy: 1.0 test accuracy: nan\n",
      "step number: 850, training accuracy: 1.0 test accuracy: nan\n",
      "step number: 855, training accuracy: 1.0 test accuracy: nan\n",
      "step number: 860, training accuracy: 1.0 test accuracy: nan\n",
      "step number: 865, training accuracy: 1.0 test accuracy: nan\n",
      "step number: 870, training accuracy: 1.0 test accuracy: nan\n",
      "step number: 875, training accuracy: 1.0 test accuracy: nan\n",
      "Epoch number 11 Training Accuracy: 1.0\n",
      "Test Set Accuracy: 0.9750000238418579\n",
      "step number: 880, training accuracy: 1.0 test accuracy: nan\n",
      "step number: 885, training accuracy: 0.995 test accuracy: nan\n",
      "step number: 890, training accuracy: 1.0 test accuracy: nan\n",
      "step number: 895, training accuracy: 1.0 test accuracy: nan\n",
      "step number: 900, training accuracy: 1.0 test accuracy: nan\n",
      "step number: 905, training accuracy: 1.0 test accuracy: nan\n",
      "step number: 910, training accuracy: 1.0 test accuracy: nan\n",
      "step number: 915, training accuracy: 1.0 test accuracy: nan\n",
      "step number: 920, training accuracy: 1.0 test accuracy: nan\n",
      "step number: 925, training accuracy: 1.0 test accuracy: nan\n",
      "step number: 930, training accuracy: 1.0 test accuracy: nan\n",
      "step number: 935, training accuracy: 1.0 test accuracy: nan\n",
      "step number: 940, training accuracy: 1.0 test accuracy: nan\n",
      "step number: 945, training accuracy: 1.0 test accuracy: nan\n",
      "step number: 950, training accuracy: 1.0 test accuracy: nan\n",
      "step number: 955, training accuracy: 1.0 test accuracy: nan\n",
      "Epoch number 12 Training Accuracy: 1.0\n",
      "Test Set Accuracy: 0.9700000286102295\n",
      "step number: 960, training accuracy: 1.0 test accuracy: nan\n",
      "step number: 965, training accuracy: 1.0 test accuracy: nan\n",
      "step number: 970, training accuracy: 1.0 test accuracy: nan\n",
      "step number: 975, training accuracy: 1.0 test accuracy: nan\n",
      "step number: 980, training accuracy: 1.0 test accuracy: nan\n",
      "step number: 985, training accuracy: 1.0 test accuracy: nan\n",
      "step number: 990, training accuracy: 1.0 test accuracy: nan\n",
      "step number: 995, training accuracy: 1.0 test accuracy: nan\n",
      "step number: 1000, training accuracy: 1.0 test accuracy: nan\n",
      "step number: 1005, training accuracy: 1.0 test accuracy: nan\n",
      "step number: 1010, training accuracy: 1.0 test accuracy: nan\n",
      "step number: 1015, training accuracy: 1.0 test accuracy: nan\n",
      "step number: 1020, training accuracy: 1.0 test accuracy: nan\n",
      "step number: 1025, training accuracy: 1.0 test accuracy: nan\n",
      "step number: 1030, training accuracy: 1.0 test accuracy: nan\n",
      "step number: 1035, training accuracy: 1.0 test accuracy: nan\n",
      "Epoch number 13 Training Accuracy: 1.0\n",
      "Test Set Accuracy: 0.9800000190734863\n",
      "step number: 1040, training accuracy: 1.0 test accuracy: nan\n",
      "step number: 1045, training accuracy: 1.0 test accuracy: nan\n",
      "step number: 1050, training accuracy: 1.0 test accuracy: nan\n",
      "step number: 1055, training accuracy: 1.0 test accuracy: nan\n",
      "step number: 1060, training accuracy: 1.0 test accuracy: nan\n",
      "step number: 1065, training accuracy: 1.0 test accuracy: nan\n",
      "step number: 1070, training accuracy: 1.0 test accuracy: nan\n",
      "step number: 1075, training accuracy: 1.0 test accuracy: nan\n",
      "step number: 1080, training accuracy: 1.0 test accuracy: nan\n",
      "step number: 1085, training accuracy: 1.0 test accuracy: nan\n",
      "step number: 1090, training accuracy: 1.0 test accuracy: nan\n",
      "step number: 1095, training accuracy: 1.0 test accuracy: nan\n",
      "step number: 1100, training accuracy: 1.0 test accuracy: nan\n",
      "step number: 1105, training accuracy: 1.0 test accuracy: nan\n",
      "step number: 1110, training accuracy: 1.0 test accuracy: nan\n",
      "step number: 1115, training accuracy: 1.0 test accuracy: nan\n",
      "Epoch number 14 Training Accuracy: 1.0\n",
      "Test Set Accuracy: 0.9550000429153442\n",
      "step number: 1120, training accuracy: 0.99 test accuracy: nan\n",
      "step number: 1125, training accuracy: 1.0 test accuracy: nan\n",
      "step number: 1130, training accuracy: 1.0 test accuracy: nan\n",
      "step number: 1135, training accuracy: 1.0 test accuracy: nan\n",
      "step number: 1140, training accuracy: 1.0 test accuracy: nan\n",
      "step number: 1145, training accuracy: 1.0 test accuracy: nan\n",
      "step number: 1150, training accuracy: 1.0 test accuracy: nan\n",
      "step number: 1155, training accuracy: 1.0 test accuracy: nan\n",
      "step number: 1160, training accuracy: 1.0 test accuracy: nan\n",
      "step number: 1165, training accuracy: 1.0 test accuracy: nan\n",
      "step number: 1170, training accuracy: 1.0 test accuracy: nan\n",
      "step number: 1175, training accuracy: 1.0 test accuracy: nan\n",
      "step number: 1180, training accuracy: 1.0 test accuracy: nan\n",
      "step number: 1185, training accuracy: 1.0 test accuracy: nan\n",
      "step number: 1190, training accuracy: 1.0 test accuracy: nan\n",
      "step number: 1195, training accuracy: 1.0 test accuracy: nan\n",
      "Epoch number 15 Training Accuracy: 1.0\n",
      "Test Set Accuracy: 0.9900000095367432\n",
      "step number: 1200, training accuracy: 0.99 test accuracy: nan\n",
      "step number: 1205, training accuracy: 0.99 test accuracy: nan\n",
      "step number: 1210, training accuracy: 1.0 test accuracy: nan\n",
      "step number: 1215, training accuracy: 1.0 test accuracy: nan\n",
      "step number: 1220, training accuracy: 1.0 test accuracy: nan\n",
      "step number: 1225, training accuracy: 1.0 test accuracy: nan\n",
      "step number: 1230, training accuracy: 1.0 test accuracy: nan\n",
      "step number: 1235, training accuracy: 1.0 test accuracy: nan\n",
      "step number: 1240, training accuracy: 1.0 test accuracy: nan\n",
      "step number: 1245, training accuracy: 1.0 test accuracy: nan\n"
     ]
    },
    {
     "name": "stdout",
     "output_type": "stream",
     "text": [
      "step number: 1250, training accuracy: 1.0 test accuracy: nan\n",
      "step number: 1255, training accuracy: 1.0 test accuracy: nan\n",
      "step number: 1260, training accuracy: 1.0 test accuracy: nan\n",
      "step number: 1265, training accuracy: 1.0 test accuracy: nan\n",
      "step number: 1270, training accuracy: 1.0 test accuracy: nan\n",
      "step number: 1275, training accuracy: 1.0 test accuracy: nan\n",
      "Epoch number 16 Training Accuracy: 1.0\n",
      "Test Set Accuracy: 0.9599999785423279\n",
      "step number: 1280, training accuracy: 0.99 test accuracy: nan\n",
      "step number: 1285, training accuracy: 1.0 test accuracy: nan\n",
      "step number: 1290, training accuracy: 1.0 test accuracy: nan\n",
      "step number: 1295, training accuracy: 1.0 test accuracy: nan\n",
      "step number: 1300, training accuracy: 1.0 test accuracy: nan\n",
      "step number: 1305, training accuracy: 1.0 test accuracy: nan\n",
      "step number: 1310, training accuracy: 1.0 test accuracy: nan\n",
      "step number: 1315, training accuracy: 1.0 test accuracy: nan\n",
      "step number: 1320, training accuracy: 1.0 test accuracy: nan\n",
      "step number: 1325, training accuracy: 1.0 test accuracy: nan\n",
      "step number: 1330, training accuracy: 1.0 test accuracy: nan\n",
      "step number: 1335, training accuracy: 1.0 test accuracy: nan\n",
      "step number: 1340, training accuracy: 1.0 test accuracy: nan\n",
      "step number: 1345, training accuracy: 1.0 test accuracy: nan\n",
      "step number: 1350, training accuracy: 1.0 test accuracy: nan\n",
      "step number: 1355, training accuracy: 1.0 test accuracy: nan\n",
      "Epoch number 17 Training Accuracy: 1.0\n",
      "Test Set Accuracy: 0.9900000095367432\n",
      "step number: 1360, training accuracy: 1.0 test accuracy: nan\n",
      "step number: 1365, training accuracy: 1.0 test accuracy: nan\n",
      "step number: 1370, training accuracy: 1.0 test accuracy: nan\n",
      "step number: 1375, training accuracy: 1.0 test accuracy: nan\n",
      "step number: 1380, training accuracy: 1.0 test accuracy: nan\n",
      "step number: 1385, training accuracy: 1.0 test accuracy: nan\n",
      "step number: 1390, training accuracy: 1.0 test accuracy: nan\n",
      "step number: 1395, training accuracy: 1.0 test accuracy: nan\n",
      "step number: 1400, training accuracy: 1.0 test accuracy: nan\n",
      "step number: 1405, training accuracy: 1.0 test accuracy: nan\n",
      "step number: 1410, training accuracy: 1.0 test accuracy: nan\n",
      "step number: 1415, training accuracy: 1.0 test accuracy: nan\n",
      "step number: 1420, training accuracy: 1.0 test accuracy: nan\n",
      "step number: 1425, training accuracy: 1.0 test accuracy: nan\n",
      "step number: 1430, training accuracy: 1.0 test accuracy: nan\n",
      "step number: 1435, training accuracy: 1.0 test accuracy: nan\n",
      "Epoch number 18 Training Accuracy: 1.0\n",
      "Test Set Accuracy: 0.9800000190734863\n",
      "step number: 1440, training accuracy: 1.0 test accuracy: nan\n",
      "step number: 1445, training accuracy: 1.0 test accuracy: nan\n",
      "step number: 1450, training accuracy: 1.0 test accuracy: nan\n",
      "step number: 1455, training accuracy: 1.0 test accuracy: nan\n",
      "step number: 1460, training accuracy: 1.0 test accuracy: nan\n",
      "step number: 1465, training accuracy: 1.0 test accuracy: nan\n",
      "step number: 1470, training accuracy: 1.0 test accuracy: nan\n",
      "step number: 1475, training accuracy: 1.0 test accuracy: nan\n",
      "step number: 1480, training accuracy: 1.0 test accuracy: nan\n",
      "step number: 1485, training accuracy: 1.0 test accuracy: nan\n",
      "step number: 1490, training accuracy: 1.0 test accuracy: nan\n",
      "step number: 1495, training accuracy: 1.0 test accuracy: nan\n",
      "step number: 1500, training accuracy: 1.0 test accuracy: nan\n",
      "step number: 1505, training accuracy: 1.0 test accuracy: nan\n",
      "step number: 1510, training accuracy: 1.0 test accuracy: nan\n",
      "step number: 1515, training accuracy: 1.0 test accuracy: nan\n",
      "Epoch number 19 Training Accuracy: 1.0\n",
      "Test Set Accuracy: 0.9700000286102295\n",
      "step number: 1520, training accuracy: 1.0 test accuracy: nan\n",
      "step number: 1525, training accuracy: 1.0 test accuracy: nan\n",
      "step number: 1530, training accuracy: 1.0 test accuracy: nan\n",
      "step number: 1535, training accuracy: 1.0 test accuracy: nan\n",
      "step number: 1540, training accuracy: 1.0 test accuracy: nan\n",
      "step number: 1545, training accuracy: 1.0 test accuracy: nan\n",
      "step number: 1550, training accuracy: 1.0 test accuracy: nan\n",
      "step number: 1555, training accuracy: 1.0 test accuracy: nan\n",
      "step number: 1560, training accuracy: 1.0 test accuracy: nan\n",
      "step number: 1565, training accuracy: 1.0 test accuracy: nan\n",
      "step number: 1570, training accuracy: 1.0 test accuracy: nan\n",
      "step number: 1575, training accuracy: 1.0 test accuracy: nan\n",
      "step number: 1580, training accuracy: 1.0 test accuracy: nan\n",
      "step number: 1585, training accuracy: 1.0 test accuracy: nan\n",
      "step number: 1590, training accuracy: 1.0 test accuracy: nan\n",
      "step number: 1595, training accuracy: 1.0 test accuracy: nan\n",
      "Epoch number 20 Training Accuracy: 1.0\n",
      "Test Set Accuracy: 0.9850000143051147\n",
      "step number: 1600, training accuracy: 1.0 test accuracy: nan\n",
      "step number: 1605, training accuracy: 1.0 test accuracy: nan\n",
      "step number: 1610, training accuracy: 1.0 test accuracy: nan\n",
      "step number: 1615, training accuracy: 1.0 test accuracy: nan\n",
      "step number: 1620, training accuracy: 1.0 test accuracy: nan\n",
      "step number: 1625, training accuracy: 1.0 test accuracy: nan\n",
      "step number: 1630, training accuracy: 1.0 test accuracy: nan\n",
      "step number: 1635, training accuracy: 1.0 test accuracy: nan\n",
      "step number: 1640, training accuracy: 1.0 test accuracy: nan\n",
      "step number: 1645, training accuracy: 1.0 test accuracy: nan\n",
      "step number: 1650, training accuracy: 1.0 test accuracy: nan\n",
      "step number: 1655, training accuracy: 1.0 test accuracy: nan\n",
      "step number: 1660, training accuracy: 1.0 test accuracy: nan\n",
      "step number: 1665, training accuracy: 1.0 test accuracy: nan\n",
      "step number: 1670, training accuracy: 1.0 test accuracy: nan\n",
      "step number: 1675, training accuracy: 1.0 test accuracy: nan\n",
      "Epoch number 21 Training Accuracy: 1.0\n",
      "Test Set Accuracy: 0.9850000143051147\n",
      "step number: 1680, training accuracy: 1.0 test accuracy: nan\n",
      "step number: 1685, training accuracy: 1.0 test accuracy: nan\n",
      "step number: 1690, training accuracy: 1.0 test accuracy: nan\n",
      "step number: 1695, training accuracy: 1.0 test accuracy: nan\n",
      "step number: 1700, training accuracy: 1.0 test accuracy: nan\n",
      "step number: 1705, training accuracy: 1.0 test accuracy: nan\n",
      "step number: 1710, training accuracy: 1.0 test accuracy: nan\n",
      "step number: 1715, training accuracy: 1.0 test accuracy: nan\n",
      "step number: 1720, training accuracy: 1.0 test accuracy: nan\n",
      "step number: 1725, training accuracy: 1.0 test accuracy: nan\n",
      "step number: 1730, training accuracy: 1.0 test accuracy: nan\n",
      "step number: 1735, training accuracy: 1.0 test accuracy: nan\n",
      "step number: 1740, training accuracy: 1.0 test accuracy: nan\n",
      "step number: 1745, training accuracy: 1.0 test accuracy: nan\n",
      "step number: 1750, training accuracy: 1.0 test accuracy: nan\n",
      "step number: 1755, training accuracy: 1.0 test accuracy: nan\n",
      "Epoch number 22 Training Accuracy: 1.0\n",
      "Test Set Accuracy: 0.9700000286102295\n",
      "step number: 1760, training accuracy: 1.0 test accuracy: nan\n",
      "step number: 1765, training accuracy: 1.0 test accuracy: nan\n",
      "step number: 1770, training accuracy: 1.0 test accuracy: nan\n",
      "step number: 1775, training accuracy: 1.0 test accuracy: nan\n",
      "step number: 1780, training accuracy: 1.0 test accuracy: nan\n",
      "step number: 1785, training accuracy: 1.0 test accuracy: nan\n",
      "step number: 1790, training accuracy: 1.0 test accuracy: nan\n",
      "step number: 1795, training accuracy: 1.0 test accuracy: nan\n",
      "step number: 1800, training accuracy: 1.0 test accuracy: nan\n",
      "step number: 1805, training accuracy: 1.0 test accuracy: nan\n",
      "step number: 1810, training accuracy: 1.0 test accuracy: nan\n",
      "step number: 1815, training accuracy: 1.0 test accuracy: nan\n",
      "step number: 1820, training accuracy: 1.0 test accuracy: nan\n",
      "step number: 1825, training accuracy: 1.0 test accuracy: nan\n",
      "step number: 1830, training accuracy: 1.0 test accuracy: nan\n",
      "step number: 1835, training accuracy: 1.0 test accuracy: nan\n",
      "Epoch number 23 Training Accuracy: 1.0\n",
      "Test Set Accuracy: 0.9750000238418579\n",
      "step number: 1840, training accuracy: 1.0 test accuracy: nan\n",
      "step number: 1845, training accuracy: 1.0 test accuracy: nan\n",
      "step number: 1850, training accuracy: 1.0 test accuracy: nan\n",
      "step number: 1855, training accuracy: 1.0 test accuracy: nan\n",
      "step number: 1860, training accuracy: 1.0 test accuracy: nan\n",
      "step number: 1865, training accuracy: 1.0 test accuracy: nan\n",
      "step number: 1870, training accuracy: 1.0 test accuracy: nan\n"
     ]
    },
    {
     "name": "stdout",
     "output_type": "stream",
     "text": [
      "step number: 1875, training accuracy: 1.0 test accuracy: nan\n",
      "step number: 1880, training accuracy: 1.0 test accuracy: nan\n",
      "step number: 1885, training accuracy: 1.0 test accuracy: nan\n",
      "step number: 1890, training accuracy: 1.0 test accuracy: nan\n",
      "step number: 1895, training accuracy: 1.0 test accuracy: nan\n",
      "step number: 1900, training accuracy: 1.0 test accuracy: nan\n",
      "step number: 1905, training accuracy: 1.0 test accuracy: nan\n",
      "step number: 1910, training accuracy: 1.0 test accuracy: nan\n",
      "step number: 1915, training accuracy: 1.0 test accuracy: nan\n",
      "Epoch number 24 Training Accuracy: 1.0\n",
      "Test Set Accuracy: 0.9600000381469727\n",
      "step number: 1920, training accuracy: 1.0 test accuracy: nan\n",
      "step number: 1925, training accuracy: 1.0 test accuracy: nan\n",
      "step number: 1930, training accuracy: 1.0 test accuracy: nan\n",
      "step number: 1935, training accuracy: 1.0 test accuracy: nan\n",
      "step number: 1940, training accuracy: 1.0 test accuracy: nan\n",
      "step number: 1945, training accuracy: 1.0 test accuracy: nan\n",
      "step number: 1950, training accuracy: 1.0 test accuracy: nan\n",
      "step number: 1955, training accuracy: 1.0 test accuracy: nan\n",
      "step number: 1960, training accuracy: 1.0 test accuracy: nan\n",
      "step number: 1965, training accuracy: 1.0 test accuracy: nan\n",
      "step number: 1970, training accuracy: 1.0 test accuracy: nan\n",
      "step number: 1975, training accuracy: 1.0 test accuracy: nan\n",
      "step number: 1980, training accuracy: 1.0 test accuracy: nan\n",
      "step number: 1985, training accuracy: 1.0 test accuracy: nan\n",
      "step number: 1990, training accuracy: 1.0 test accuracy: nan\n",
      "step number: 1995, training accuracy: 1.0 test accuracy: nan\n",
      "Epoch number 25 Training Accuracy: 1.0\n",
      "Test Set Accuracy: 0.9800000190734863\n",
      "step number: 2000, training accuracy: 1.0 test accuracy: nan\n",
      "step number: 2005, training accuracy: 1.0 test accuracy: nan\n",
      "step number: 2010, training accuracy: 1.0 test accuracy: nan\n",
      "step number: 2015, training accuracy: 1.0 test accuracy: nan\n",
      "step number: 2020, training accuracy: 1.0 test accuracy: nan\n",
      "step number: 2025, training accuracy: 1.0 test accuracy: nan\n",
      "step number: 2030, training accuracy: 1.0 test accuracy: nan\n",
      "step number: 2035, training accuracy: 1.0 test accuracy: nan\n",
      "step number: 2040, training accuracy: 1.0 test accuracy: nan\n",
      "step number: 2045, training accuracy: 1.0 test accuracy: nan\n",
      "step number: 2050, training accuracy: 1.0 test accuracy: nan\n",
      "step number: 2055, training accuracy: 1.0 test accuracy: nan\n",
      "step number: 2060, training accuracy: 1.0 test accuracy: nan\n",
      "step number: 2065, training accuracy: 1.0 test accuracy: nan\n",
      "step number: 2070, training accuracy: 1.0 test accuracy: nan\n",
      "step number: 2075, training accuracy: 1.0 test accuracy: nan\n",
      "Epoch number 26 Training Accuracy: 1.0\n",
      "Test Set Accuracy: 0.9900000095367432\n",
      "step number: 2080, training accuracy: 1.0 test accuracy: nan\n",
      "step number: 2085, training accuracy: 1.0 test accuracy: nan\n",
      "step number: 2090, training accuracy: 1.0 test accuracy: nan\n",
      "step number: 2095, training accuracy: 1.0 test accuracy: nan\n",
      "step number: 2100, training accuracy: 1.0 test accuracy: nan\n",
      "step number: 2105, training accuracy: 1.0 test accuracy: nan\n",
      "step number: 2110, training accuracy: 1.0 test accuracy: nan\n",
      "step number: 2115, training accuracy: 1.0 test accuracy: nan\n",
      "step number: 2120, training accuracy: 1.0 test accuracy: nan\n",
      "step number: 2125, training accuracy: 1.0 test accuracy: nan\n",
      "step number: 2130, training accuracy: 1.0 test accuracy: nan\n",
      "step number: 2135, training accuracy: 1.0 test accuracy: nan\n",
      "step number: 2140, training accuracy: 1.0 test accuracy: nan\n"
     ]
    },
    {
     "ename": "KeyboardInterrupt",
     "evalue": "",
     "output_type": "error",
     "traceback": [
      "\u001b[0;31m---------------------------------------------------------------------------\u001b[0m",
      "\u001b[0;31mKeyboardInterrupt\u001b[0m                         Traceback (most recent call last)",
      "\u001b[0;32m<ipython-input-28-331b9ae1405b>\u001b[0m in \u001b[0;36m<module>\u001b[0;34m()\u001b[0m\n\u001b[1;32m     15\u001b[0m                                   \u001b[0mY_\u001b[0m\u001b[0;34m:\u001b[0m \u001b[0mtrain_y\u001b[0m\u001b[0;34m[\u001b[0m\u001b[0;34m(\u001b[0m\u001b[0mii\u001b[0m\u001b[0;34m*\u001b[0m\u001b[0mbatchSize\u001b[0m\u001b[0;34m)\u001b[0m\u001b[0;34m:\u001b[0m\u001b[0;34m(\u001b[0m\u001b[0;34m(\u001b[0m\u001b[0mii\u001b[0m\u001b[0;34m+\u001b[0m\u001b[0;36m1\u001b[0m\u001b[0;34m)\u001b[0m\u001b[0;34m*\u001b[0m\u001b[0mbatchSize\u001b[0m\u001b[0;34m)\u001b[0m\u001b[0;34m]\u001b[0m\u001b[0;34m,\u001b[0m\u001b[0;34m\u001b[0m\u001b[0m\n\u001b[1;32m     16\u001b[0m                                   \u001b[0mkeepRate1\u001b[0m\u001b[0;34m:\u001b[0m \u001b[0;36m1\u001b[0m\u001b[0;34m,\u001b[0m\u001b[0;34m\u001b[0m\u001b[0m\n\u001b[0;32m---> 17\u001b[0;31m                                   keepRate2: 1})\n\u001b[0m\u001b[1;32m     18\u001b[0m \u001b[0;34m\u001b[0m\u001b[0m\n\u001b[1;32m     19\u001b[0m         \u001b[0;31m#print(\"step: %s, acc: %s\" % (step, acc))\u001b[0m\u001b[0;34m\u001b[0m\u001b[0;34m\u001b[0m\u001b[0m\n",
      "\u001b[0;32m/home/brycemcd/anaconda3/lib/python3.6/site-packages/tensorflow/python/client/session.py\u001b[0m in \u001b[0;36mrun\u001b[0;34m(self, fetches, feed_dict, options, run_metadata)\u001b[0m\n\u001b[1;32m    893\u001b[0m     \u001b[0;32mtry\u001b[0m\u001b[0;34m:\u001b[0m\u001b[0;34m\u001b[0m\u001b[0m\n\u001b[1;32m    894\u001b[0m       result = self._run(None, fetches, feed_dict, options_ptr,\n\u001b[0;32m--> 895\u001b[0;31m                          run_metadata_ptr)\n\u001b[0m\u001b[1;32m    896\u001b[0m       \u001b[0;32mif\u001b[0m \u001b[0mrun_metadata\u001b[0m\u001b[0;34m:\u001b[0m\u001b[0;34m\u001b[0m\u001b[0m\n\u001b[1;32m    897\u001b[0m         \u001b[0mproto_data\u001b[0m \u001b[0;34m=\u001b[0m \u001b[0mtf_session\u001b[0m\u001b[0;34m.\u001b[0m\u001b[0mTF_GetBuffer\u001b[0m\u001b[0;34m(\u001b[0m\u001b[0mrun_metadata_ptr\u001b[0m\u001b[0;34m)\u001b[0m\u001b[0;34m\u001b[0m\u001b[0m\n",
      "\u001b[0;32m/home/brycemcd/anaconda3/lib/python3.6/site-packages/tensorflow/python/client/session.py\u001b[0m in \u001b[0;36m_run\u001b[0;34m(self, handle, fetches, feed_dict, options, run_metadata)\u001b[0m\n\u001b[1;32m   1122\u001b[0m     \u001b[0;32mif\u001b[0m \u001b[0mfinal_fetches\u001b[0m \u001b[0;32mor\u001b[0m \u001b[0mfinal_targets\u001b[0m \u001b[0;32mor\u001b[0m \u001b[0;34m(\u001b[0m\u001b[0mhandle\u001b[0m \u001b[0;32mand\u001b[0m \u001b[0mfeed_dict_tensor\u001b[0m\u001b[0;34m)\u001b[0m\u001b[0;34m:\u001b[0m\u001b[0;34m\u001b[0m\u001b[0m\n\u001b[1;32m   1123\u001b[0m       results = self._do_run(handle, final_targets, final_fetches,\n\u001b[0;32m-> 1124\u001b[0;31m                              feed_dict_tensor, options, run_metadata)\n\u001b[0m\u001b[1;32m   1125\u001b[0m     \u001b[0;32melse\u001b[0m\u001b[0;34m:\u001b[0m\u001b[0;34m\u001b[0m\u001b[0m\n\u001b[1;32m   1126\u001b[0m       \u001b[0mresults\u001b[0m \u001b[0;34m=\u001b[0m \u001b[0;34m[\u001b[0m\u001b[0;34m]\u001b[0m\u001b[0;34m\u001b[0m\u001b[0m\n",
      "\u001b[0;32m/home/brycemcd/anaconda3/lib/python3.6/site-packages/tensorflow/python/client/session.py\u001b[0m in \u001b[0;36m_do_run\u001b[0;34m(self, handle, target_list, fetch_list, feed_dict, options, run_metadata)\u001b[0m\n\u001b[1;32m   1319\u001b[0m     \u001b[0;32mif\u001b[0m \u001b[0mhandle\u001b[0m \u001b[0;32mis\u001b[0m \u001b[0;32mNone\u001b[0m\u001b[0;34m:\u001b[0m\u001b[0;34m\u001b[0m\u001b[0m\n\u001b[1;32m   1320\u001b[0m       return self._do_call(_run_fn, self._session, feeds, fetches, targets,\n\u001b[0;32m-> 1321\u001b[0;31m                            options, run_metadata)\n\u001b[0m\u001b[1;32m   1322\u001b[0m     \u001b[0;32melse\u001b[0m\u001b[0;34m:\u001b[0m\u001b[0;34m\u001b[0m\u001b[0m\n\u001b[1;32m   1323\u001b[0m       \u001b[0;32mreturn\u001b[0m \u001b[0mself\u001b[0m\u001b[0;34m.\u001b[0m\u001b[0m_do_call\u001b[0m\u001b[0;34m(\u001b[0m\u001b[0m_prun_fn\u001b[0m\u001b[0;34m,\u001b[0m \u001b[0mself\u001b[0m\u001b[0;34m.\u001b[0m\u001b[0m_session\u001b[0m\u001b[0;34m,\u001b[0m \u001b[0mhandle\u001b[0m\u001b[0;34m,\u001b[0m \u001b[0mfeeds\u001b[0m\u001b[0;34m,\u001b[0m \u001b[0mfetches\u001b[0m\u001b[0;34m)\u001b[0m\u001b[0;34m\u001b[0m\u001b[0m\n",
      "\u001b[0;32m/home/brycemcd/anaconda3/lib/python3.6/site-packages/tensorflow/python/client/session.py\u001b[0m in \u001b[0;36m_do_call\u001b[0;34m(self, fn, *args)\u001b[0m\n\u001b[1;32m   1325\u001b[0m   \u001b[0;32mdef\u001b[0m \u001b[0m_do_call\u001b[0m\u001b[0;34m(\u001b[0m\u001b[0mself\u001b[0m\u001b[0;34m,\u001b[0m \u001b[0mfn\u001b[0m\u001b[0;34m,\u001b[0m \u001b[0;34m*\u001b[0m\u001b[0margs\u001b[0m\u001b[0;34m)\u001b[0m\u001b[0;34m:\u001b[0m\u001b[0;34m\u001b[0m\u001b[0m\n\u001b[1;32m   1326\u001b[0m     \u001b[0;32mtry\u001b[0m\u001b[0;34m:\u001b[0m\u001b[0;34m\u001b[0m\u001b[0m\n\u001b[0;32m-> 1327\u001b[0;31m       \u001b[0;32mreturn\u001b[0m \u001b[0mfn\u001b[0m\u001b[0;34m(\u001b[0m\u001b[0;34m*\u001b[0m\u001b[0margs\u001b[0m\u001b[0;34m)\u001b[0m\u001b[0;34m\u001b[0m\u001b[0m\n\u001b[0m\u001b[1;32m   1328\u001b[0m     \u001b[0;32mexcept\u001b[0m \u001b[0merrors\u001b[0m\u001b[0;34m.\u001b[0m\u001b[0mOpError\u001b[0m \u001b[0;32mas\u001b[0m \u001b[0me\u001b[0m\u001b[0;34m:\u001b[0m\u001b[0;34m\u001b[0m\u001b[0m\n\u001b[1;32m   1329\u001b[0m       \u001b[0mmessage\u001b[0m \u001b[0;34m=\u001b[0m \u001b[0mcompat\u001b[0m\u001b[0;34m.\u001b[0m\u001b[0mas_text\u001b[0m\u001b[0;34m(\u001b[0m\u001b[0me\u001b[0m\u001b[0;34m.\u001b[0m\u001b[0mmessage\u001b[0m\u001b[0;34m)\u001b[0m\u001b[0;34m\u001b[0m\u001b[0m\n",
      "\u001b[0;32m/home/brycemcd/anaconda3/lib/python3.6/site-packages/tensorflow/python/client/session.py\u001b[0m in \u001b[0;36m_run_fn\u001b[0;34m(session, feed_dict, fetch_list, target_list, options, run_metadata)\u001b[0m\n\u001b[1;32m   1304\u001b[0m           return tf_session.TF_Run(session, options,\n\u001b[1;32m   1305\u001b[0m                                    \u001b[0mfeed_dict\u001b[0m\u001b[0;34m,\u001b[0m \u001b[0mfetch_list\u001b[0m\u001b[0;34m,\u001b[0m \u001b[0mtarget_list\u001b[0m\u001b[0;34m,\u001b[0m\u001b[0;34m\u001b[0m\u001b[0m\n\u001b[0;32m-> 1306\u001b[0;31m                                    status, run_metadata)\n\u001b[0m\u001b[1;32m   1307\u001b[0m \u001b[0;34m\u001b[0m\u001b[0m\n\u001b[1;32m   1308\u001b[0m     \u001b[0;32mdef\u001b[0m \u001b[0m_prun_fn\u001b[0m\u001b[0;34m(\u001b[0m\u001b[0msession\u001b[0m\u001b[0;34m,\u001b[0m \u001b[0mhandle\u001b[0m\u001b[0;34m,\u001b[0m \u001b[0mfeed_dict\u001b[0m\u001b[0;34m,\u001b[0m \u001b[0mfetch_list\u001b[0m\u001b[0;34m)\u001b[0m\u001b[0;34m:\u001b[0m\u001b[0;34m\u001b[0m\u001b[0m\n",
      "\u001b[0;31mKeyboardInterrupt\u001b[0m: "
     ]
    }
   ],
   "source": [
    "steps = int(train_x.shape[0]/batchSize)\n",
    "print(\"total steps: %s\" % steps)\n",
    "\n",
    "for i in range(numEpochs):\n",
    "    accHist = []\n",
    "    accHist2 = []\n",
    "    train_x, train_y = imf.shuffle(train_x, train_y)\n",
    "    \n",
    "    for ii in range(steps):\n",
    "        #Calculate our current step\n",
    "        step = i * steps + ii\n",
    "        #Feed forward batch of train images into graph and log accuracy\n",
    "        acc, wo_ff = sess.run([[accuracy], write_op], \n",
    "                       feed_dict={X: train_x[(ii*batchSize):((ii+1)*batchSize),:,:,:], \n",
    "                                  Y_: train_y[(ii*batchSize):((ii+1)*batchSize)], \n",
    "                                  keepRate1: 1, \n",
    "                                  keepRate2: 1})\n",
    "        \n",
    "        #print(\"step: %s, acc: %s\" % (step, acc))\n",
    "        accHist.append(acc)\n",
    "        \n",
    "        #Back propogate using adam optimizer to update weights and biases.\n",
    "        sess.run([train_step, write_op], feed_dict={X: train_x[(ii*batchSize):((ii+1)*batchSize),:,:,:], \n",
    "                                        Y_: train_y[(ii*batchSize):((ii+1)*batchSize)], \n",
    "                                        keepRate1: 0.75, \n",
    "                                        keepRate2: 0.75})\n",
    "        \n",
    "        if step % 5 == 0:\n",
    "            # Get Train Summary for one batch and add summary to TensorBoard\n",
    "#             summary = sess.run(write_op, feed_dict={X: train_x[(ii*batchSize):((ii+1)*batchSize),:,:,:], \n",
    "#                                                     Y_: train_y[(ii*batchSize):((ii+1)*batchSize)], \n",
    "#                                                     keepRate1: 1, \n",
    "#                                                     keepRate2: 1})\n",
    "            writer_1.add_summary(wo_ff, step)\n",
    "            writer_1.flush()\n",
    "            \n",
    "            # Get Test Summary on random 10 test images and add summary to TensorBoard\n",
    "#             test_x, test_y = imf.shuffle(test_x, test_y)\n",
    "#             num_test_samples = round(len(test_x) * 0.5)\n",
    "            \n",
    "#             summary = sess.run(write_op, feed_dict={X: test_x[0:num_test_samples,:,:,:], \n",
    "#                                                     Y_: test_y[0:num_test_samples],\n",
    "#                                                     keepRate1: 1,\n",
    "#                                                     keepRate2: 1})\n",
    "#             writer_2.add_summary(summary, step)\n",
    "#             writer_2.add_summary(wo_bp, step)\n",
    "#             writer_2.flush()\n",
    "            \n",
    "            print(\"step number: %s, training accuracy: %s\" % (step, np.median(accHist)))\n",
    "\n",
    "        \n",
    "    \n",
    "    print('Epoch number {} Training Accuracy: {}'.format(i+1, np.median(accHist)))\n",
    "    \n",
    "    #Feed forward all test images into graph and log accuracy\n",
    "    for iii in range(int(test_x.shape[0]/batchSize)):\n",
    "        acc, wo_t = sess.run([accuracy, write_op], feed_dict={X: test_x[(iii*batchSize):((iii+1)*batchSize),:,:,:],\n",
    "                                            Y_: test_y[(iii*batchSize):((iii+1)*batchSize)],\n",
    "                                            keepRate1: 1,\n",
    "                                            keepRate2: 1})\n",
    "        writer_2.add_summary(wo_t, step)\n",
    "        writer_2.flush()\n",
    "        accHist2.append(acc)\n",
    "    print(\"Test Set Accuracy: {}\".format(np.median(accHist2)))"
   ]
  },
  {
   "cell_type": "code",
   "execution_count": 29,
   "metadata": {
    "collapsed": true
   },
   "outputs": [],
   "source": [
    "sess.close()"
   ]
  },
  {
   "cell_type": "code",
   "execution_count": 32,
   "metadata": {},
   "outputs": [
    {
     "data": {
      "text/plain": [
       "TensorShape([Dimension(3), Dimension(3), Dimension(1), Dimension(32)])"
      ]
     },
     "execution_count": 32,
     "metadata": {},
     "output_type": "execute_result"
    }
   ],
   "source": [
    "filter1_1.shape"
   ]
  }
 ],
 "metadata": {
  "kernelspec": {
   "display_name": "Python 3",
   "language": "python",
   "name": "python3"
  },
  "language_info": {
   "codemirror_mode": {
    "name": "ipython",
    "version": 3
   },
   "file_extension": ".py",
   "mimetype": "text/x-python",
   "name": "python",
   "nbconvert_exporter": "python",
   "pygments_lexer": "ipython3",
   "version": "3.6.1"
  }
 },
 "nbformat": 4,
 "nbformat_minor": 2
}
