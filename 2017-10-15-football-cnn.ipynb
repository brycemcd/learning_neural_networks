{
 "cells": [
  {
   "cell_type": "markdown",
   "metadata": {},
   "source": [
    "## Football CNN\n",
    "\n",
    "This notebook will emulate the CNN created in `2017-10-14-CNN-from-scratch.ipynb` and apply the architecture of the CNN to the football images data set in order to classify an image as \"football game\" or \"other\""
   ]
  },
  {
   "cell_type": "code",
   "execution_count": 2,
   "metadata": {
    "collapsed": true
   },
   "outputs": [],
   "source": [
    "import os\n",
    "import tensorflow as tf\n",
    "import scipy.ndimage\n",
    "from scipy.misc import imsave\n",
    "import matplotlib.pyplot as plt\n",
    "import numpy as np\n",
    "\n",
    "import imFunctions as imf\n",
    "\n",
    "%matplotlib inline"
   ]
  },
  {
   "cell_type": "markdown",
   "metadata": {},
   "source": [
    "## Organize Images Into Training/Test sets\n",
    "\n",
    "Arrange images to create a test and training data sets\n",
    "\n",
    "NOTE: due to some other processing I do (playing around with ffmpeg, capturing from the camera etc), I have a ton of images ready for learning already in `~/football_imgs/{game,ad}`. In order to emulate the tutorial more closely, I'm going to arrange the folder structure similarly to the tutorial but symlink the images in a directory structure I have created for this notebook's purpose.\n",
    "\n",
    "The directory structure for this notebook's purpose is:\n",
    "\n",
    "{game,ad}/{train,test}"
   ]
  },
  {
   "cell_type": "code",
   "execution_count": 3,
   "metadata": {
    "collapsed": true
   },
   "outputs": [],
   "source": [
    "game_img_src_dir = '/home/brycemcd/football_imgs/game/small/'\n",
    "ad_img_src_dir = '/home/brycemcd/football_imgs/ad/images/small/'\n",
    "training_game_img_src_dir = 'data/football/game/train/'\n",
    "testing_game_img_src_dir = 'data/football/game/test/'\n",
    "training_ad_img_src_dir = 'data/football/ad/train/'\n",
    "testing_ad_img_src_dir = 'data/football/ad/test/'\n",
    "\n",
    "num_classes = 2"
   ]
  },
  {
   "cell_type": "code",
   "execution_count": null,
   "metadata": {},
   "outputs": [],
   "source": [
    "game_imgs = os.listdir('/home/brycemcd/football_imgs/game/small/')\n",
    "game_imgs[0:5]"
   ]
  },
  {
   "cell_type": "code",
   "execution_count": null,
   "metadata": {},
   "outputs": [],
   "source": [
    "ad_imgs = os.listdir('/home/brycemcd/football_imgs/ad/images/small/')\n",
    "ad_imgs[0:5]"
   ]
  },
  {
   "cell_type": "code",
   "execution_count": null,
   "metadata": {},
   "outputs": [],
   "source": [
    "print(\"game imgs count: %s\" % len(game_imgs))\n",
    "print(\"ad imgs count: %s\" % len(ad_imgs))"
   ]
  },
  {
   "cell_type": "code",
   "execution_count": null,
   "metadata": {},
   "outputs": [],
   "source": [
    "game_train_cnt = round(len(game_imgs) * 0.85)\n",
    "game_test_cnt  = len(game_imgs) - game_train_cnt"
   ]
  },
  {
   "cell_type": "code",
   "execution_count": null,
   "metadata": {},
   "outputs": [],
   "source": [
    "import random\n",
    "\n",
    "def create_training_data(img_src_dir, img_dst_dir, training_percentage):\n",
    "    \"\"\"Get a random set of images for training and symlink them to this notebook's directory structure\"\"\"\n",
    "    all_imgs = os.listdir(img_src_dir)\n",
    "    training_img_cnt = len(all_imgs) * training_percentage\n",
    "    \n",
    "    train_imgs = []\n",
    "\n",
    "    while(len(os.listdir(img_dst_dir)) < training_img_cnt):\n",
    "        img = random.choice(all_imgs)\n",
    "\n",
    "        try:\n",
    "            os.symlink( img_src_dir + img,\n",
    "                        img_dst_dir + img)\n",
    "            train_imgs.append(img)\n",
    "            all_imgs.remove(img)\n",
    "        except FileExistsError:\n",
    "            continue\n",
    "    return train_imgs"
   ]
  },
  {
   "cell_type": "code",
   "execution_count": null,
   "metadata": {
    "collapsed": true
   },
   "outputs": [],
   "source": [
    "def create_testing_data(img_src_dir, img_dst_dir, training_dir):\n",
    "    \"take all images that are not appropriated for training and make them test images\"\n",
    "    all_imgs = os.listdir(img_src_dir)\n",
    "    training_imgs = os.listdir(training_dir)\n",
    "    testing_imgs = set(all_imgs) - set(training_imgs)\n",
    "\n",
    "    for img in testing_imgs:\n",
    "        os.symlink( img_src_dir + img,\n",
    "                    img_dst_dir + img)\n"
   ]
  },
  {
   "cell_type": "code",
   "execution_count": null,
   "metadata": {
    "collapsed": true
   },
   "outputs": [],
   "source": [
    "create_training_data(game_img_src_dir, training_game_img_src_dir, 0.85)\n",
    "create_testing_data(game_img_src_dir, testing_game_img_src_dir, training_game_img_src_dir)"
   ]
  },
  {
   "cell_type": "code",
   "execution_count": null,
   "metadata": {},
   "outputs": [],
   "source": [
    "len(os.listdir(training_game_img_src_dir))"
   ]
  },
  {
   "cell_type": "code",
   "execution_count": null,
   "metadata": {},
   "outputs": [],
   "source": [
    "len(os.listdir(testing_game_img_src_dir))"
   ]
  },
  {
   "cell_type": "code",
   "execution_count": null,
   "metadata": {},
   "outputs": [],
   "source": [
    "# This should be 0\n",
    "training_img_set = set(os.listdir(training_game_img_src_dir))\n",
    "testing_img_set = set(os.listdir(testing_game_img_src_dir))\n",
    "len(training_img_set.intersection(testing_img_set))"
   ]
  },
  {
   "cell_type": "code",
   "execution_count": null,
   "metadata": {},
   "outputs": [],
   "source": [
    "create_training_data(ad_img_src_dir, training_ad_img_src_dir, 0.85)\n",
    "create_testing_data(ad_img_src_dir, testing_ad_img_src_dir, training_ad_img_src_dir)"
   ]
  },
  {
   "cell_type": "code",
   "execution_count": null,
   "metadata": {},
   "outputs": [],
   "source": [
    "len(os.listdir(training_ad_img_src_dir))"
   ]
  },
  {
   "cell_type": "code",
   "execution_count": null,
   "metadata": {},
   "outputs": [],
   "source": [
    "len(os.listdir(testing_ad_img_src_dir))"
   ]
  },
  {
   "cell_type": "code",
   "execution_count": null,
   "metadata": {},
   "outputs": [],
   "source": [
    "# This should be 0\n",
    "training_img_set = set(os.listdir(training_ad_img_src_dir))\n",
    "testing_img_set = set(os.listdir(testing_ad_img_src_dir))\n",
    "len(training_img_set.intersection(testing_img_set))"
   ]
  },
  {
   "cell_type": "code",
   "execution_count": 36,
   "metadata": {},
   "outputs": [],
   "source": [
    "data_shape = [1, 320, 240, 1]\n",
    "num_samples = 100\n",
    "\n",
    "train_x = np.zeros(data_shape)\n",
    "train_y = np.zeros([1, num_classes])\n",
    "\n",
    "test_x = np.zeros(data_shape)\n",
    "test_y = np.zeros([1, num_classes])\n",
    "\n",
    "training_game_img_set = set(os.listdir(training_game_img_src_dir))\n",
    "training_ad_img_set = set(os.listdir(training_ad_img_src_dir))\n",
    "\n",
    "testing_game_img_set = set(os.listdir(testing_game_img_src_dir))\n",
    "testing_ad_img_set = set(os.listdir(testing_ad_img_src_dir))\n",
    "\n",
    "# TODO: make this a function ... sheesh\n",
    "for img in list(training_game_img_set)[0:num_samples]:\n",
    "    full_img = training_game_img_src_dir + img\n",
    "    im = scipy.misc.imread(full_img, flatten=True, mode=\"I\").astype(np.float32)\n",
    "    im = im.reshape(data_shape)\n",
    "    #print(im)\n",
    "    train_x = np.vstack((train_x, im))\n",
    "    train_y = np.vstack((train_y, [1, 0]))\n",
    "\n",
    "for img in list(training_ad_img_set)[0:num_samples]:\n",
    "    full_img = training_ad_img_src_dir + img\n",
    "    im = scipy.misc.imread(full_img, flatten=True, mode=\"I\").astype(np.float32)\n",
    "    im = im.reshape(data_shape)\n",
    "    #print(im)\n",
    "    train_x = np.vstack((train_x, im))\n",
    "    train_y = np.vstack((train_y, [0, 1]))\n",
    "\n",
    "for img in list(testing_game_img_set)[0:num_samples]:\n",
    "    full_img = testing_game_img_src_dir + img\n",
    "    im = scipy.misc.imread(full_img, flatten=True, mode=\"I\").astype(np.float32)\n",
    "    im = im.reshape(data_shape)\n",
    "    #print(im)\n",
    "    test_x = np.vstack((test_x, im))\n",
    "    test_y = np.vstack((test_y, [1, 0]))\n",
    "\n",
    "for img in list(testing_ad_img_set)[0:num_samples]:\n",
    "    full_img = testing_ad_img_src_dir + img\n",
    "    im = scipy.misc.imread(full_img, flatten=True, mode=\"I\").astype(np.float32)\n",
    "    im = im.reshape(data_shape)\n",
    "    #print(im)\n",
    "    test_x = np.vstack((test_x, im))\n",
    "    test_y = np.vstack((test_y, [0, 1]))\n",
    "    \n",
    "train_x -= np.mean([train_x], axis=1)\n",
    "test_x -= np.mean([test_x], axis=1)\n",
    "\n",
    "train_x = train_x[1:]\n",
    "train_y = train_y[1:]\n",
    "\n",
    "test_x = test_x[1:]\n",
    "test_y = test_y[1:]"
   ]
  },
  {
   "cell_type": "code",
   "execution_count": 37,
   "metadata": {},
   "outputs": [
    {
     "name": "stdout",
     "output_type": "stream",
     "text": [
      "# of training samples: 200\n",
      "# of training labels: 200\n",
      "# of testing samples: 200\n",
      "# of testing labels: 200\n"
     ]
    }
   ],
   "source": [
    "print(\"# of training samples: %s\" % len(train_x))\n",
    "print(\"# of training labels: %s\" % len(train_y))\n",
    "\n",
    "print(\"# of testing samples: %s\" % len(test_x))\n",
    "print(\"# of testing labels: %s\" % len(test_y))"
   ]
  },
  {
   "cell_type": "markdown",
   "metadata": {},
   "source": [
    "## Network Architecture"
   ]
  },
  {
   "cell_type": "code",
   "execution_count": null,
   "metadata": {},
   "outputs": [],
   "source": [
    "X = tf.placeholder(tf.float32, shape=(None, 320, 240, 1))\n",
    "Y_ = tf.placeholder(tf.float32, [None, num_classes])\n",
    "\n",
    "keepRate1 = tf.placeholder(tf.float32)\n",
    "keepRate2 = tf.placeholder(tf.float32)"
   ]
  },
  {
   "cell_type": "code",
   "execution_count": 14,
   "metadata": {},
   "outputs": [
    {
     "data": {
      "text/plain": [
       "<tf.Tensor 'Placeholder_4:0' shape=(?, 320, 240, 1) dtype=float32>"
      ]
     },
     "execution_count": 14,
     "metadata": {},
     "output_type": "execute_result"
    }
   ],
   "source": [
    "X"
   ]
  },
  {
   "cell_type": "code",
   "execution_count": null,
   "metadata": {},
   "outputs": [],
   "source": [
    "# CONVOLUTION 1 - 1\n",
    "with tf.name_scope('conv1_1'):\n",
    "    filter1_1 = tf.Variable(tf.truncated_normal([3, 3, 1, 32], \n",
    "                                                dtype=tf.float32,\n",
    "                                                stddev=1e-1), \n",
    "                            name='weights1_1')\n",
    "    stride = [1,5,5,1]\n",
    "    conv = tf.nn.conv2d(X, filter1_1, stride, padding='SAME')\n",
    "    \n",
    "    biases = tf.Variable(tf.constant(0.0, \n",
    "                                     shape=[32], \n",
    "                                     dtype=tf.float32),\n",
    "                        trainable=True,\n",
    "                        name='biases1_1')\n",
    "    out = tf.nn.bias_add(conv, biases)\n",
    "    conv1_1 = tf.nn.relu(out)"
   ]
  },
  {
   "cell_type": "code",
   "execution_count": 25,
   "metadata": {},
   "outputs": [],
   "source": [
    "# CONVOLUTION 1 - 2\n",
    "with tf.name_scope('conv1_2'):\n",
    "    filter1_2 = tf.Variable(tf.truncated_normal([3, 3, 32, 32], \n",
    "                                                dtype=tf.float32,\n",
    "                                                stddev=1e-1), \n",
    "                            name='weights1_2')\n",
    "    \n",
    "    stride = [1,5,5,1]\n",
    "    conv = tf.nn.conv2d(conv1_1, filter1_2, stride, padding='SAME')\n",
    "    \n",
    "    biases = tf.Variable(tf.constant(0.0, shape=[32], dtype=tf.float32),\n",
    "                         trainable=True, name='biases1_2')\n",
    "    \n",
    "    out = tf.nn.bias_add(conv, biases)\n",
    "    conv1_2 = tf.nn.relu(out)"
   ]
  },
  {
   "cell_type": "code",
   "execution_count": 26,
   "metadata": {
    "collapsed": true
   },
   "outputs": [],
   "source": [
    "# POOL 1\n",
    "with tf.name_scope('pool1'):\n",
    "    pool1_1 = tf.nn.max_pool(conv1_2,\n",
    "                             ksize=[1, 2, 2, 1],\n",
    "                             strides=[1, 2, 2, 1],\n",
    "                             padding='SAME',\n",
    "                             name='pool1_1')\n",
    "    pool1_1_drop = tf.nn.dropout(pool1_1, keepRate1)"
   ]
  },
  {
   "cell_type": "code",
   "execution_count": 27,
   "metadata": {
    "collapsed": true
   },
   "outputs": [],
   "source": [
    "# CONVOLUTION 2 - 1\n",
    "with tf.name_scope('conv2_1'):\n",
    "    filter2_1 = tf.Variable(tf.truncated_normal([3, 3, 32, 64], dtype=tf.float32,\n",
    "                                                stddev=1e-1), name='weights2_1')\n",
    "    conv = tf.nn.conv2d(pool1_1_drop, filter2_1, [1, 1, 1, 1], padding='SAME')\n",
    "    biases = tf.Variable(tf.constant(0.0, shape=[64], dtype=tf.float32),\n",
    "                         trainable=True, name='biases2_1')\n",
    "    out = tf.nn.bias_add(conv, biases)\n",
    "    conv2_1 = tf.nn.relu(out)\n",
    "    \n",
    "# CONVOLUTION 2 - 2\n",
    "with tf.name_scope('conv2_2'):\n",
    "    filter2_2 = tf.Variable(tf.truncated_normal([3, 3, 64, 64], dtype=tf.float32,\n",
    "                                                stddev=1e-1), name='weights2_2')\n",
    "    conv = tf.nn.conv2d(conv2_1, filter2_2, [1, 1, 1, 1], padding='SAME')\n",
    "    biases = tf.Variable(tf.constant(0.0, shape=[64], dtype=tf.float32),\n",
    "                         trainable=True, name='biases2_2')\n",
    "    out = tf.nn.bias_add(conv, biases)\n",
    "    conv2_2 = tf.nn.relu(out)\n",
    "    \n",
    "# POOL 2\n",
    "with tf.name_scope('pool2'):\n",
    "    pool2_1 = tf.nn.max_pool(conv2_2,\n",
    "                             ksize=[1, 2, 2, 1],\n",
    "                             strides=[1, 2, 2, 1],\n",
    "                             padding='SAME',\n",
    "                             name='pool2_1')\n",
    "    pool2_1_drop = tf.nn.dropout(pool2_1, keepRate1)"
   ]
  },
  {
   "cell_type": "code",
   "execution_count": 28,
   "metadata": {
    "collapsed": true
   },
   "outputs": [],
   "source": [
    "#FULLY CONNECTED 1\n",
    "with tf.name_scope('fc1') as scope:\n",
    "    shape = int(np.prod(pool2_1_drop.get_shape()[1:]))\n",
    "    \n",
    "    fc1w = tf.Variable(tf.truncated_normal([shape, 512], \n",
    "                                           dtype=tf.float32,\n",
    "                                           stddev=1e-1), \n",
    "                       name='weights3_1')\n",
    "    \n",
    "    fc1b = tf.Variable(tf.constant(1.0, shape=[512], dtype=tf.float32),\n",
    "                       trainable=True, \n",
    "                       name='biases3_1')\n",
    "    \n",
    "    pool2_flat = tf.reshape(pool2_1_drop, [-1, shape])\n",
    "    \n",
    "    out = tf.nn.bias_add(tf.matmul(pool2_flat, fc1w), fc1b)\n",
    "    fc1 = tf.nn.relu(out)\n",
    "    fc1_drop = tf.nn.dropout(fc1, keepRate2)"
   ]
  },
  {
   "cell_type": "code",
   "execution_count": 31,
   "metadata": {},
   "outputs": [],
   "source": [
    "#FULLY CONNECTED 3 & SOFTMAX OUTPUT\n",
    "with tf.name_scope('softmax') as scope:\n",
    "    fc2w = tf.Variable(tf.truncated_normal([512, num_classes], dtype=tf.float32,\n",
    "                                           stddev=1e-1), name='weights3_2')\n",
    "    \n",
    "    fc2b = tf.Variable(tf.constant(1.0, shape=[num_classes], dtype=tf.float32),\n",
    "                       trainable=True, name='biases3_2')\n",
    "    \n",
    "    Ylogits = tf.nn.bias_add(tf.matmul(fc1_drop, fc2w), fc2b)\n",
    "    \n",
    "    Y = tf.nn.softmax(Ylogits)"
   ]
  },
  {
   "cell_type": "markdown",
   "metadata": {},
   "source": [
    "## Learning"
   ]
  },
  {
   "cell_type": "code",
   "execution_count": 38,
   "metadata": {
    "collapsed": true
   },
   "outputs": [],
   "source": [
    "numEpochs = 10\n",
    "batchSize = 100\n",
    "alpha = 1e-5\n",
    "\n",
    "\n",
    "with tf.name_scope('cross_entropy'):\n",
    "    cross_entropy = tf.nn.softmax_cross_entropy_with_logits(logits=Ylogits, labels=Y_)\n",
    "    loss = tf.reduce_mean(cross_entropy)\n",
    "\n",
    "with tf.name_scope('accuracy'):\n",
    "    correct_prediction = tf.equal(tf.argmax(Y, 1), tf.argmax(Y_, 1))\n",
    "    accuracy = tf.reduce_mean(tf.cast(correct_prediction, tf.float32))\n",
    "\n",
    "with tf.name_scope('train'):\n",
    "    train_step = tf.train.AdamOptimizer(learning_rate=alpha).minimize(loss)"
   ]
  },
  {
   "cell_type": "code",
   "execution_count": 39,
   "metadata": {
    "collapsed": true
   },
   "outputs": [],
   "source": [
    "sess = tf.Session() # TODO make this an interactive session\n",
    "init = tf.global_variables_initializer()\n",
    "sess.run(init)"
   ]
  },
  {
   "cell_type": "code",
   "execution_count": null,
   "metadata": {
    "collapsed": true
   },
   "outputs": [],
   "source": [
    "writer_1 = tf.summary.FileWriter(\"/tmp/football/train\")\n",
    "writer_2 = tf.summary.FileWriter(\"/tmp/football/test\")\n",
    "\n",
    "writer_1.add_graph(sess.graph)\n",
    "\n",
    "tf.summary.scalar('Loss', loss)\n",
    "tf.summary.scalar('Accuracy', accuracy)\n",
    "tf.summary.histogram(\"weights1_1\", filter1_1)\n",
    "write_op = tf.summary.merge_all()"
   ]
  },
  {
   "cell_type": "code",
   "execution_count": null,
   "metadata": {},
   "outputs": [
    {
     "name": "stdout",
     "output_type": "stream",
     "text": [
      "Epoch number 1 Training Accuracy: 0.4950000047683716\n",
      "Test Set Accuracy: 0.36500000953674316\n",
      "Epoch number 2 Training Accuracy: 0.39500001072883606\n",
      "Test Set Accuracy: 0.4750000238418579\n",
      "Epoch number 3 Training Accuracy: 0.4950000047683716\n",
      "Test Set Accuracy: 0.5\n",
      "Test Set Accuracy: 0.5\n",
      "Epoch number 8 Training Accuracy: 0.4950000047683716\n",
      "Test Set Accuracy: 0.5\n",
      "Epoch number 9 Training Accuracy: 0.4949999749660492\n",
      "Test Set Accuracy: 0.5\n",
      "Epoch number 10 Training Accuracy: 0.5049999952316284\n",
      "Test Set Accuracy: 0.5\n"
     ]
    }
   ],
   "source": [
    "steps = int(train_x.shape[0]/batchSize)\n",
    "\n",
    "for i in range(numEpochs):\n",
    "    accHist = []\n",
    "    accHist2 = []\n",
    "    train_x, train_y = imf.shuffle(train_x, train_y)\n",
    "    for ii in range(steps):\n",
    "        #Calculate our current step\n",
    "        step = i * steps + ii\n",
    "        #Feed forward batch of train images into graph and log accuracy\n",
    "        acc = sess.run([accuracy], feed_dict={X: train_x[(ii*batchSize):((ii+1)*batchSize),:,:,:], Y_: train_y[(ii*batchSize):((ii+1)*batchSize)], keepRate1: 1, keepRate2: 1})\n",
    "        accHist.append(acc)\n",
    "        \n",
    "        if step % 5 == 0:\n",
    "            # Get Train Summary for one batch and add summary to TensorBoard\n",
    "            summary = sess.run(write_op, feed_dict={X: train_x[(ii*batchSize):((ii+1)*batchSize),:,:,:], Y_: train_y[(ii*batchSize):((ii+1)*batchSize)], keepRate1: 1, keepRate2: 1})\n",
    "            writer_1.add_summary(summary, step)\n",
    "            writer_1.flush()\n",
    "            \n",
    "            # Get Test Summary on random 10 test images and add summary to TensorBoard\n",
    "            test_x, test_y = imf.shuffle(test_x, test_y)\n",
    "            summary = sess.run(write_op, feed_dict={X: test_x[0:10,:,:,:], Y_: test_y[0:10], keepRate1: 1, keepRate2: 1})\n",
    "            writer_2.add_summary(summary, step)\n",
    "            writer_2.flush()\n",
    "\n",
    "        #Back propigate using adam optimizer to update weights and biases.\n",
    "        sess.run(train_step, feed_dict={X: train_x[(ii*batchSize):((ii+1)*batchSize),:,:,:], Y_: train_y[(ii*batchSize):((ii+1)*batchSize)], keepRate1: 0.2, keepRate2: 0.5})\n",
    "    \n",
    "    print('Epoch number {} Training Accuracy: {}'.format(i+1, np.mean(accHist)))\n",
    "    \n",
    "    #Feed forward all test images into graph and log accuracy\n",
    "    for iii in range(int(test_x.shape[0]/batchSize)):\n",
    "        acc = sess.run(accuracy, feed_dict={X: test_x[(iii*batchSize):((iii+1)*batchSize),:,:,:], Y_: test_y[(iii*batchSize):((iii+1)*batchSize)], keepRate1: 1, keepRate2: 1})\n",
    "        accHist2.append(acc)\n",
    "    print(\"Test Set Accuracy: {}\".format(np.mean(accHist2)))"
   ]
  },
  {
   "cell_type": "code",
   "execution_count": null,
   "metadata": {
    "collapsed": true
   },
   "outputs": [],
   "source": [
    "sess.close()"
   ]
  }
 ],
 "metadata": {
  "kernelspec": {
   "display_name": "Python 3",
   "language": "python",
   "name": "python3"
  },
  "language_info": {
   "codemirror_mode": {
    "name": "ipython",
    "version": 3
   },
   "file_extension": ".py",
   "mimetype": "text/x-python",
   "name": "python",
   "nbconvert_exporter": "python",
   "pygments_lexer": "ipython3",
   "version": "3.6.1"
  }
 },
 "nbformat": 4,
 "nbformat_minor": 2
}
