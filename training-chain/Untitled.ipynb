{
 "cells": [
  {
   "cell_type": "markdown",
   "metadata": {},
   "source": [
    "# Model Results Consumer\n",
    "\n",
    "This scratch pad consumes the Kafka topic that has run models. Consume the results and make them look nice"
   ]
  },
  {
   "cell_type": "code",
   "execution_count": 55,
   "metadata": {},
   "outputs": [],
   "source": [
    "import json\n",
    "import datetime\n",
    "from keras.models import model_from_json\n",
    "from kafka import KafkaConsumer\n",
    "\n",
    "import matplotlib.pyplot as plt\n",
    "\n",
    "%matplotlib inline"
   ]
  },
  {
   "cell_type": "code",
   "execution_count": 102,
   "metadata": {},
   "outputs": [],
   "source": [
    "def model_training_duration(result):\n",
    "    \"Calculates the number of minutes the training took\"\n",
    "    \n",
    "    if type(result) != dict:\n",
    "        return None\n",
    "    \n",
    "    #if not result.get('training_time_end', False) or result.get('training_time_start', False):\n",
    "    #    return None\n",
    "    \n",
    "    pformat = '%Y-%m-%dT%H:%M:%S.%f'\n",
    "    tdiff = (datetime.datetime.strptime(result['training_time_end'], pformat) - datetime.datetime.strptime(result['training_time_start'], pformat))\n",
    "    return tdiff.seconds / 60\n"
   ]
  },
  {
   "cell_type": "code",
   "execution_count": 12,
   "metadata": {},
   "outputs": [
    {
     "name": "stdout",
     "output_type": "stream",
     "text": [
      "test-model-results:0:0: key=None\n",
      "test-model-results:0:1: key=None\n",
      "test-model-results:0:2: key=None\n",
      "test-model-results:0:3: key=None\n",
      "test-model-results:0:4: key=None\n",
      "test-model-results:0:5: key=None\n",
      "test-model-results:0:6: key=None\n",
      "test-model-results:0:7: key=None\n",
      "test-model-results:0:8: key=None\n",
      "test-model-results:0:9: key=None\n",
      "test-model-results:0:10: key=None\n",
      "test-model-results:0:11: key=None\n",
      "test-model-results:0:12: key=None\n",
      "test-model-results:0:13: key=None\n"
     ]
    },
    {
     "ename": "KeyboardInterrupt",
     "evalue": "",
     "output_type": "error",
     "traceback": [
      "\u001b[0;31m---------------------------------------------------------------------------\u001b[0m",
      "\u001b[0;31mKeyboardInterrupt\u001b[0m                         Traceback (most recent call last)",
      "\u001b[0;32m<ipython-input-12-cec9edc0a7b5>\u001b[0m in \u001b[0;36m<module>\u001b[0;34m()\u001b[0m\n\u001b[1;32m     10\u001b[0m \u001b[0;34m\u001b[0m\u001b[0m\n\u001b[1;32m     11\u001b[0m \u001b[0mresults\u001b[0m \u001b[0;34m=\u001b[0m \u001b[0;34m[\u001b[0m\u001b[0;34m]\u001b[0m\u001b[0;34m\u001b[0m\u001b[0m\n\u001b[0;32m---> 12\u001b[0;31m \u001b[0;32mfor\u001b[0m \u001b[0mmessage\u001b[0m \u001b[0;32min\u001b[0m \u001b[0mconsumer\u001b[0m\u001b[0;34m:\u001b[0m\u001b[0;34m\u001b[0m\u001b[0m\n\u001b[0m\u001b[1;32m     13\u001b[0m     \u001b[0;31m# message value and key are raw bytes -- decode if necessary!\u001b[0m\u001b[0;34m\u001b[0m\u001b[0;34m\u001b[0m\u001b[0m\n\u001b[1;32m     14\u001b[0m     \u001b[0;31m# e.g., for unicode: `message.value.decode('utf-8')`\u001b[0m\u001b[0;34m\u001b[0m\u001b[0;34m\u001b[0m\u001b[0m\n",
      "\u001b[0;32m~/.conda/envs/tensorflow/lib/python3.6/site-packages/kafka/consumer/group.py\u001b[0m in \u001b[0;36m__next__\u001b[0;34m(self)\u001b[0m\n\u001b[1;32m   1073\u001b[0m         \u001b[0mself\u001b[0m\u001b[0;34m.\u001b[0m\u001b[0m_set_consumer_timeout\u001b[0m\u001b[0;34m(\u001b[0m\u001b[0;34m)\u001b[0m\u001b[0;34m\u001b[0m\u001b[0m\n\u001b[1;32m   1074\u001b[0m         \u001b[0;32mtry\u001b[0m\u001b[0;34m:\u001b[0m\u001b[0;34m\u001b[0m\u001b[0m\n\u001b[0;32m-> 1075\u001b[0;31m             \u001b[0;32mreturn\u001b[0m \u001b[0mnext\u001b[0m\u001b[0;34m(\u001b[0m\u001b[0mself\u001b[0m\u001b[0;34m.\u001b[0m\u001b[0m_iterator\u001b[0m\u001b[0;34m)\u001b[0m\u001b[0;34m\u001b[0m\u001b[0m\n\u001b[0m\u001b[1;32m   1076\u001b[0m         \u001b[0;32mexcept\u001b[0m \u001b[0mStopIteration\u001b[0m\u001b[0;34m:\u001b[0m\u001b[0;34m\u001b[0m\u001b[0m\n\u001b[1;32m   1077\u001b[0m             \u001b[0mself\u001b[0m\u001b[0;34m.\u001b[0m\u001b[0m_iterator\u001b[0m \u001b[0;34m=\u001b[0m \u001b[0;32mNone\u001b[0m\u001b[0;34m\u001b[0m\u001b[0m\n",
      "\u001b[0;32m~/.conda/envs/tensorflow/lib/python3.6/site-packages/kafka/consumer/group.py\u001b[0m in \u001b[0;36m_message_generator\u001b[0;34m(self)\u001b[0m\n\u001b[1;32m   1011\u001b[0m             \u001b[0;32mif\u001b[0m \u001b[0;32mnot\u001b[0m \u001b[0mself\u001b[0m\u001b[0;34m.\u001b[0m\u001b[0m_fetcher\u001b[0m\u001b[0;34m.\u001b[0m\u001b[0min_flight_fetches\u001b[0m\u001b[0;34m(\u001b[0m\u001b[0;34m)\u001b[0m\u001b[0;34m:\u001b[0m\u001b[0;34m\u001b[0m\u001b[0m\n\u001b[1;32m   1012\u001b[0m                 \u001b[0mpoll_ms\u001b[0m \u001b[0;34m=\u001b[0m \u001b[0;36m0\u001b[0m\u001b[0;34m\u001b[0m\u001b[0m\n\u001b[0;32m-> 1013\u001b[0;31m             \u001b[0mself\u001b[0m\u001b[0;34m.\u001b[0m\u001b[0m_client\u001b[0m\u001b[0;34m.\u001b[0m\u001b[0mpoll\u001b[0m\u001b[0;34m(\u001b[0m\u001b[0mtimeout_ms\u001b[0m\u001b[0;34m=\u001b[0m\u001b[0mpoll_ms\u001b[0m\u001b[0;34m)\u001b[0m\u001b[0;34m\u001b[0m\u001b[0m\n\u001b[0m\u001b[1;32m   1014\u001b[0m \u001b[0;34m\u001b[0m\u001b[0m\n\u001b[1;32m   1015\u001b[0m             \u001b[0;31m# We need to make sure we at least keep up with scheduled tasks,\u001b[0m\u001b[0;34m\u001b[0m\u001b[0;34m\u001b[0m\u001b[0m\n",
      "\u001b[0;32m~/.conda/envs/tensorflow/lib/python3.6/site-packages/kafka/client_async.py\u001b[0m in \u001b[0;36mpoll\u001b[0;34m(self, timeout_ms, future, delayed_tasks)\u001b[0m\n\u001b[1;32m    552\u001b[0m                 \u001b[0mtimeout\u001b[0m \u001b[0;34m=\u001b[0m \u001b[0mmax\u001b[0m\u001b[0;34m(\u001b[0m\u001b[0;36m0\u001b[0m\u001b[0;34m,\u001b[0m \u001b[0mtimeout\u001b[0m \u001b[0;34m/\u001b[0m \u001b[0;36m1000.0\u001b[0m\u001b[0;34m)\u001b[0m  \u001b[0;31m# avoid negative timeouts\u001b[0m\u001b[0;34m\u001b[0m\u001b[0m\n\u001b[1;32m    553\u001b[0m \u001b[0;34m\u001b[0m\u001b[0m\n\u001b[0;32m--> 554\u001b[0;31m             \u001b[0mresponses\u001b[0m\u001b[0;34m.\u001b[0m\u001b[0mextend\u001b[0m\u001b[0;34m(\u001b[0m\u001b[0mself\u001b[0m\u001b[0;34m.\u001b[0m\u001b[0m_poll\u001b[0m\u001b[0;34m(\u001b[0m\u001b[0mtimeout\u001b[0m\u001b[0;34m)\u001b[0m\u001b[0;34m)\u001b[0m\u001b[0;34m\u001b[0m\u001b[0m\n\u001b[0m\u001b[1;32m    555\u001b[0m \u001b[0;34m\u001b[0m\u001b[0m\n\u001b[1;32m    556\u001b[0m             \u001b[0;31m# If all we had was a timeout (future is None) - only do one poll\u001b[0m\u001b[0;34m\u001b[0m\u001b[0;34m\u001b[0m\u001b[0m\n",
      "\u001b[0;32m~/.conda/envs/tensorflow/lib/python3.6/site-packages/kafka/client_async.py\u001b[0m in \u001b[0;36m_poll\u001b[0;34m(self, timeout)\u001b[0m\n\u001b[1;32m    566\u001b[0m \u001b[0;34m\u001b[0m\u001b[0m\n\u001b[1;32m    567\u001b[0m         \u001b[0mstart_select\u001b[0m \u001b[0;34m=\u001b[0m \u001b[0mtime\u001b[0m\u001b[0;34m.\u001b[0m\u001b[0mtime\u001b[0m\u001b[0;34m(\u001b[0m\u001b[0;34m)\u001b[0m\u001b[0;34m\u001b[0m\u001b[0m\n\u001b[0;32m--> 568\u001b[0;31m         \u001b[0mready\u001b[0m \u001b[0;34m=\u001b[0m \u001b[0mself\u001b[0m\u001b[0;34m.\u001b[0m\u001b[0m_selector\u001b[0m\u001b[0;34m.\u001b[0m\u001b[0mselect\u001b[0m\u001b[0;34m(\u001b[0m\u001b[0mtimeout\u001b[0m\u001b[0;34m)\u001b[0m\u001b[0;34m\u001b[0m\u001b[0m\n\u001b[0m\u001b[1;32m    569\u001b[0m         \u001b[0mend_select\u001b[0m \u001b[0;34m=\u001b[0m \u001b[0mtime\u001b[0m\u001b[0;34m.\u001b[0m\u001b[0mtime\u001b[0m\u001b[0;34m(\u001b[0m\u001b[0;34m)\u001b[0m\u001b[0;34m\u001b[0m\u001b[0m\n\u001b[1;32m    570\u001b[0m         \u001b[0;32mif\u001b[0m \u001b[0mself\u001b[0m\u001b[0;34m.\u001b[0m\u001b[0m_sensors\u001b[0m\u001b[0;34m:\u001b[0m\u001b[0;34m\u001b[0m\u001b[0m\n",
      "\u001b[0;32m~/.conda/envs/tensorflow/lib/python3.6/selectors.py\u001b[0m in \u001b[0;36mselect\u001b[0;34m(self, timeout)\u001b[0m\n\u001b[1;32m    443\u001b[0m             \u001b[0mready\u001b[0m \u001b[0;34m=\u001b[0m \u001b[0;34m[\u001b[0m\u001b[0;34m]\u001b[0m\u001b[0;34m\u001b[0m\u001b[0m\n\u001b[1;32m    444\u001b[0m             \u001b[0;32mtry\u001b[0m\u001b[0;34m:\u001b[0m\u001b[0;34m\u001b[0m\u001b[0m\n\u001b[0;32m--> 445\u001b[0;31m                 \u001b[0mfd_event_list\u001b[0m \u001b[0;34m=\u001b[0m \u001b[0mself\u001b[0m\u001b[0;34m.\u001b[0m\u001b[0m_epoll\u001b[0m\u001b[0;34m.\u001b[0m\u001b[0mpoll\u001b[0m\u001b[0;34m(\u001b[0m\u001b[0mtimeout\u001b[0m\u001b[0;34m,\u001b[0m \u001b[0mmax_ev\u001b[0m\u001b[0;34m)\u001b[0m\u001b[0;34m\u001b[0m\u001b[0m\n\u001b[0m\u001b[1;32m    446\u001b[0m             \u001b[0;32mexcept\u001b[0m \u001b[0mInterruptedError\u001b[0m\u001b[0;34m:\u001b[0m\u001b[0;34m\u001b[0m\u001b[0m\n\u001b[1;32m    447\u001b[0m                 \u001b[0;32mreturn\u001b[0m \u001b[0mready\u001b[0m\u001b[0;34m\u001b[0m\u001b[0m\n",
      "\u001b[0;31mKeyboardInterrupt\u001b[0m: "
     ]
    }
   ],
   "source": [
    "# To consume latest messages and auto-commit offsets\n",
    "consumer = KafkaConsumer('test-model-results',\n",
    "                         group_id='test-group-001',\n",
    "                         client_id='test-consumer-001',\n",
    "                         bootstrap_servers=['spark4.thedevranch.net'],\n",
    "                         #value_deserializer=lambda m: json.loads(m.decode('utf-8')),\n",
    "                         auto_offset_reset='earliest',\n",
    "                         enable_auto_commit=False,\n",
    "                        )\n",
    "\n",
    "results = []\n",
    "for message in consumer:\n",
    "    # message value and key are raw bytes -- decode if necessary!\n",
    "    # e.g., for unicode: `message.value.decode('utf-8')`\n",
    "    print(\"%s:%d:%d: key=%s\" % (message.topic, message.partition,\n",
    "                                message.offset, message.key,\n",
    "                                          ))\n",
    "    results.append(message.value.decode('utf-8'))"
   ]
  },
  {
   "cell_type": "code",
   "execution_count": 111,
   "metadata": {},
   "outputs": [
    {
     "data": {
      "text/plain": [
       "[10, 10, 10, 10, 10, 10, 10, 10, 10, 10, 16, 16, 7, 7]"
      ]
     },
     "execution_count": 111,
     "metadata": {},
     "output_type": "execute_result"
    }
   ],
   "source": [
    "[len(json.loads(result)['config']) for result in results]"
   ]
  },
  {
   "cell_type": "code",
   "execution_count": 114,
   "metadata": {},
   "outputs": [
    {
     "data": {
      "image/png": "[encoded data removed]",
      "text/plain": [
       "<matplotlib.figure.Figure at 0x7f0beafbfe80>"
      ]
     },
     "metadata": {},
     "output_type": "display_data"
    }
   ],
   "source": [
    "training_times = []\n",
    "test_accs = []\n",
    "\n",
    "for result in results:\n",
    "    result = json.loads(result)\n",
    "    training_times.append( model_training_duration(result) )\n",
    "    test_accs.append(result['acc'])\n",
    "\n",
    "plt.figure(figsize=(16,9))\n",
    "plt.plot(test_accs, 'b.')\n",
    "\n",
    "plt.ylim((0.9, 1.0))\n",
    "plt.title(\"Accuracy on Test Data\")\n",
    "plt.ylabel(\"Accuracy\")\n",
    "plt.xlabel(\"Model Number\")\n",
    "plt.show()"
   ]
  },
  {
   "cell_type": "markdown",
   "metadata": {},
   "source": [
    "## Single Model Analysis"
   ]
  },
  {
   "cell_type": "code",
   "execution_count": 16,
   "metadata": {},
   "outputs": [
    {
     "data": {
      "text/plain": [
       "{'acc': 0.489,\n",
       " 'backend': 'tensorflow',\n",
       " 'batch_size': 128,\n",
       " 'class_name': 'Sequential',\n",
       " 'config': [{'class_name': 'Conv2D',\n",
       "   'config': {'activation': 'relu',\n",
       "    'activity_regularizer': None,\n",
       "    'batch_input_shape': [None, 240, 320, 1],\n",
       "    'bias_constraint': None,\n",
       "    'bias_initializer': {'class_name': 'Zeros', 'config': {}},\n",
       "    'bias_regularizer': None,\n",
       "    'data_format': 'channels_last',\n",
       "    'dilation_rate': [1, 1],\n",
       "    'dtype': 'float32',\n",
       "    'filters': 8,\n",
       "    'kernel_constraint': None,\n",
       "    'kernel_initializer': {'class_name': 'VarianceScaling',\n",
       "     'config': {'distribution': 'uniform',\n",
       "      'mode': 'fan_avg',\n",
       "      'scale': 1.0,\n",
       "      'seed': None}},\n",
       "    'kernel_regularizer': None,\n",
       "    'kernel_size': [3, 3],\n",
       "    'name': 'conv_1',\n",
       "    'padding': 'same',\n",
       "    'strides': [1, 1],\n",
       "    'trainable': True,\n",
       "    'use_bias': True}},\n",
       "  {'class_name': 'MaxPooling2D',\n",
       "   'config': {'data_format': 'channels_last',\n",
       "    'name': 'max_pool_1',\n",
       "    'padding': 'same',\n",
       "    'pool_size': [2, 2],\n",
       "    'strides': [2, 2],\n",
       "    'trainable': True}},\n",
       "  {'class_name': 'Dropout',\n",
       "   'config': {'name': 'dropout_42',\n",
       "    'noise_shape': None,\n",
       "    'rate': 0.1,\n",
       "    'seed': None,\n",
       "    'trainable': True}},\n",
       "  {'class_name': 'Conv2D',\n",
       "   'config': {'activation': 'relu',\n",
       "    'activity_regularizer': None,\n",
       "    'bias_constraint': None,\n",
       "    'bias_initializer': {'class_name': 'Zeros', 'config': {}},\n",
       "    'bias_regularizer': None,\n",
       "    'data_format': 'channels_last',\n",
       "    'dilation_rate': [1, 1],\n",
       "    'filters': 16,\n",
       "    'kernel_constraint': None,\n",
       "    'kernel_initializer': {'class_name': 'VarianceScaling',\n",
       "     'config': {'distribution': 'uniform',\n",
       "      'mode': 'fan_avg',\n",
       "      'scale': 1.0,\n",
       "      'seed': None}},\n",
       "    'kernel_regularizer': None,\n",
       "    'kernel_size': [3, 3],\n",
       "    'name': 'conv_2',\n",
       "    'padding': 'same',\n",
       "    'strides': [1, 1],\n",
       "    'trainable': True,\n",
       "    'use_bias': True}},\n",
       "  {'class_name': 'MaxPooling2D',\n",
       "   'config': {'data_format': 'channels_last',\n",
       "    'name': 'max_pool_2',\n",
       "    'padding': 'same',\n",
       "    'pool_size': [2, 2],\n",
       "    'strides': [2, 2],\n",
       "    'trainable': True}},\n",
       "  {'class_name': 'Dropout',\n",
       "   'config': {'name': 'dropout_43',\n",
       "    'noise_shape': None,\n",
       "    'rate': 0.1,\n",
       "    'seed': None,\n",
       "    'trainable': True}},\n",
       "  {'class_name': 'Conv2D',\n",
       "   'config': {'activation': 'relu',\n",
       "    'activity_regularizer': None,\n",
       "    'bias_constraint': None,\n",
       "    'bias_initializer': {'class_name': 'Zeros', 'config': {}},\n",
       "    'bias_regularizer': None,\n",
       "    'data_format': 'channels_last',\n",
       "    'dilation_rate': [1, 1],\n",
       "    'filters': 32,\n",
       "    'kernel_constraint': None,\n",
       "    'kernel_initializer': {'class_name': 'VarianceScaling',\n",
       "     'config': {'distribution': 'uniform',\n",
       "      'mode': 'fan_avg',\n",
       "      'scale': 1.0,\n",
       "      'seed': None}},\n",
       "    'kernel_regularizer': None,\n",
       "    'kernel_size': [3, 3],\n",
       "    'name': 'conv_3',\n",
       "    'padding': 'same',\n",
       "    'strides': [1, 1],\n",
       "    'trainable': True,\n",
       "    'use_bias': True}},\n",
       "  {'class_name': 'MaxPooling2D',\n",
       "   'config': {'data_format': 'channels_last',\n",
       "    'name': 'max_pool_3',\n",
       "    'padding': 'same',\n",
       "    'pool_size': [2, 2],\n",
       "    'strides': [2, 2],\n",
       "    'trainable': True}},\n",
       "  {'class_name': 'Dropout',\n",
       "   'config': {'name': 'dropout_44',\n",
       "    'noise_shape': None,\n",
       "    'rate': 0.1,\n",
       "    'seed': None,\n",
       "    'trainable': True}},\n",
       "  {'class_name': 'Conv2D',\n",
       "   'config': {'activation': 'relu',\n",
       "    'activity_regularizer': None,\n",
       "    'bias_constraint': None,\n",
       "    'bias_initializer': {'class_name': 'Zeros', 'config': {}},\n",
       "    'bias_regularizer': None,\n",
       "    'data_format': 'channels_last',\n",
       "    'dilation_rate': [1, 1],\n",
       "    'filters': 64,\n",
       "    'kernel_constraint': None,\n",
       "    'kernel_initializer': {'class_name': 'VarianceScaling',\n",
       "     'config': {'distribution': 'uniform',\n",
       "      'mode': 'fan_avg',\n",
       "      'scale': 1.0,\n",
       "      'seed': None}},\n",
       "    'kernel_regularizer': None,\n",
       "    'kernel_size': [3, 3],\n",
       "    'name': 'conv_4',\n",
       "    'padding': 'same',\n",
       "    'strides': [1, 1],\n",
       "    'trainable': True,\n",
       "    'use_bias': True}},\n",
       "  {'class_name': 'MaxPooling2D',\n",
       "   'config': {'data_format': 'channels_last',\n",
       "    'name': 'max_pool_4',\n",
       "    'padding': 'same',\n",
       "    'pool_size': [2, 2],\n",
       "    'strides': [2, 2],\n",
       "    'trainable': True}},\n",
       "  {'class_name': 'Dropout',\n",
       "   'config': {'name': 'dropout_45',\n",
       "    'noise_shape': None,\n",
       "    'rate': 0.1,\n",
       "    'seed': None,\n",
       "    'trainable': True}},\n",
       "  {'class_name': 'Flatten',\n",
       "   'config': {'name': 'flatten_14', 'trainable': True}},\n",
       "  {'class_name': 'Dense',\n",
       "   'config': {'activation': 'relu',\n",
       "    'activity_regularizer': None,\n",
       "    'bias_constraint': None,\n",
       "    'bias_initializer': {'class_name': 'Zeros', 'config': {}},\n",
       "    'bias_regularizer': None,\n",
       "    'kernel_constraint': None,\n",
       "    'kernel_initializer': {'class_name': 'VarianceScaling',\n",
       "     'config': {'distribution': 'uniform',\n",
       "      'mode': 'fan_avg',\n",
       "      'scale': 1.0,\n",
       "      'seed': None}},\n",
       "    'kernel_regularizer': None,\n",
       "    'name': 'fc_1',\n",
       "    'trainable': True,\n",
       "    'units': 800,\n",
       "    'use_bias': True}},\n",
       "  {'class_name': 'Dropout',\n",
       "   'config': {'name': 'dropout_46',\n",
       "    'noise_shape': None,\n",
       "    'rate': 0.2,\n",
       "    'seed': None,\n",
       "    'trainable': True}},\n",
       "  {'class_name': 'Dense',\n",
       "   'config': {'activation': 'softmax',\n",
       "    'activity_regularizer': None,\n",
       "    'bias_constraint': None,\n",
       "    'bias_initializer': {'class_name': 'Zeros', 'config': {}},\n",
       "    'bias_regularizer': None,\n",
       "    'kernel_constraint': None,\n",
       "    'kernel_initializer': {'class_name': 'VarianceScaling',\n",
       "     'config': {'distribution': 'uniform',\n",
       "      'mode': 'fan_avg',\n",
       "      'scale': 1.0,\n",
       "      'seed': None}},\n",
       "    'kernel_regularizer': None,\n",
       "    'name': 'output',\n",
       "    'trainable': True,\n",
       "    'units': 2,\n",
       "    'use_bias': True}}],\n",
       " 'do_validation': True,\n",
       " 'epochs': 20,\n",
       " 'history': {'acc': [0.521875,\n",
       "   0.580375,\n",
       "   0.755,\n",
       "   0.885125,\n",
       "   0.906125,\n",
       "   0.913125,\n",
       "   0.914125,\n",
       "   0.91925,\n",
       "   0.92775,\n",
       "   0.934,\n",
       "   0.939875,\n",
       "   0.94375,\n",
       "   0.945625,\n",
       "   0.947625,\n",
       "   0.949,\n",
       "   0.95075,\n",
       "   0.94975,\n",
       "   0.950625,\n",
       "   0.951125,\n",
       "   0.952875],\n",
       "  'loss': [0.6727295427322387,\n",
       "   0.6215327138900757,\n",
       "   0.5742403171062469,\n",
       "   0.5241993088722229,\n",
       "   0.46983935618400574,\n",
       "   0.4163487739562988,\n",
       "   0.37002622604370117,\n",
       "   0.3272521471977234,\n",
       "   0.29138150715827943,\n",
       "   0.2608597371578217,\n",
       "   0.23520582795143127,\n",
       "   0.2132008993625641,\n",
       "   0.19743005561828614,\n",
       "   0.1815329101085663,\n",
       "   0.17175075960159303,\n",
       "   0.1630508157014847,\n",
       "   0.1571255476474762,\n",
       "   0.1503976627588272,\n",
       "   0.1466439232826233,\n",
       "   0.14322186386585237],\n",
       "  'val_acc': [0.4839999990463257,\n",
       "   0.46900000143051146,\n",
       "   0.47800000047683716,\n",
       "   0.7290000019073486,\n",
       "   0.6290000019073486,\n",
       "   0.5870000028610229,\n",
       "   0.5580000014305114,\n",
       "   0.5400000014305115,\n",
       "   0.5369999976158142,\n",
       "   0.528,\n",
       "   0.5219999992847443,\n",
       "   0.5229999992847443,\n",
       "   0.5219999992847443,\n",
       "   0.5169999985694885,\n",
       "   0.5139999985694885,\n",
       "   0.5129999985694885,\n",
       "   0.5129999985694885,\n",
       "   0.5119999985694885,\n",
       "   0.5119999985694885,\n",
       "   0.5119999985694885],\n",
       "  'val_loss': [0.6930316791534424,\n",
       "   0.6910232925415039,\n",
       "   0.6864734044075013,\n",
       "   0.6815697159767151,\n",
       "   0.6759582424163818,\n",
       "   0.6716341600418091,\n",
       "   0.6667285461425781,\n",
       "   0.6610486326217652,\n",
       "   0.6551720628738403,\n",
       "   0.6512353596687317,\n",
       "   0.6482003302574157,\n",
       "   0.6418719325065613,\n",
       "   0.6378718953132629,\n",
       "   0.6388598709106446,\n",
       "   0.6396365842819214,\n",
       "   0.6383826231956482,\n",
       "   0.634946138381958,\n",
       "   0.638786018371582,\n",
       "   0.6392887392044068,\n",
       "   0.6344609823226929]},\n",
       " 'keras_version': '2.1.1',\n",
       " 'loss': 0.6514592962265014,\n",
       " 'metrics': ['loss', 'acc', 'val_loss', 'val_acc'],\n",
       " 'samples': 8000,\n",
       " 'steps': None,\n",
       " 'training_time_end': '2017-11-25T03:13:41.613019',\n",
       " 'training_time_start': '2017-11-25T02:25:53.531252',\n",
       " 'verbose': 1}"
      ]
     },
     "execution_count": 16,
     "metadata": {},
     "output_type": "execute_result"
    }
   ],
   "source": [
    "result = json.loads(results[11])\n",
    "result"
   ]
  },
  {
   "cell_type": "code",
   "execution_count": 52,
   "metadata": {},
   "outputs": [
    {
     "name": "stdout",
     "output_type": "stream",
     "text": [
      "_________________________________________________________________\n",
      "Layer (type)                 Output Shape              Param #   \n",
      "=================================================================\n",
      "conv_1 (Conv2D)              (None, 240, 320, 8)       80        \n",
      "_________________________________________________________________\n",
      "max_pool_1 (MaxPooling2D)    (None, 120, 160, 8)       0         \n",
      "_________________________________________________________________\n",
      "dropout_42 (Dropout)         (None, 120, 160, 8)       0         \n",
      "_________________________________________________________________\n",
      "conv_2 (Conv2D)              (None, 120, 160, 16)      1168      \n",
      "_________________________________________________________________\n",
      "max_pool_2 (MaxPooling2D)    (None, 60, 80, 16)        0         \n",
      "_________________________________________________________________\n",
      "dropout_43 (Dropout)         (None, 60, 80, 16)        0         \n",
      "_________________________________________________________________\n",
      "conv_3 (Conv2D)              (None, 60, 80, 32)        4640      \n",
      "_________________________________________________________________\n",
      "max_pool_3 (MaxPooling2D)    (None, 30, 40, 32)        0         \n",
      "_________________________________________________________________\n",
      "dropout_44 (Dropout)         (None, 30, 40, 32)        0         \n",
      "_________________________________________________________________\n",
      "conv_4 (Conv2D)              (None, 30, 40, 64)        18496     \n",
      "_________________________________________________________________\n",
      "max_pool_4 (MaxPooling2D)    (None, 15, 20, 64)        0         \n",
      "_________________________________________________________________\n",
      "dropout_45 (Dropout)         (None, 15, 20, 64)        0         \n",
      "_________________________________________________________________\n",
      "flatten_14 (Flatten)         (None, 19200)             0         \n",
      "_________________________________________________________________\n",
      "fc_1 (Dense)                 (None, 800)               15360800  \n",
      "_________________________________________________________________\n",
      "dropout_46 (Dropout)         (None, 800)               0         \n",
      "_________________________________________________________________\n",
      "output (Dense)               (None, 2)                 1602      \n",
      "=================================================================\n",
      "Total params: 15,386,786\n",
      "Trainable params: 15,386,786\n",
      "Non-trainable params: 0\n",
      "_________________________________________________________________\n"
     ]
    }
   ],
   "source": [
    "model = model_from_json( json.dumps(result))\n",
    "model.summary()"
   ]
  },
  {
   "cell_type": "code",
   "execution_count": 80,
   "metadata": {},
   "outputs": [
    {
     "name": "stdout",
     "output_type": "stream",
     "text": [
      "Model training time: 47.8 minutes\n"
     ]
    }
   ],
   "source": [
    "pformat = '%Y-%m-%dT%H:%M:%S.%f'\n",
    "tdiff = (datetime.datetime.strptime(result['training_time_end'], pformat) - datetime.datetime.strptime(result['training_time_start'], pformat))\n",
    "print(\"Model training time: %s minutes\" % model_training_duration(result))"
   ]
  },
  {
   "cell_type": "code",
   "execution_count": 53,
   "metadata": {},
   "outputs": [
    {
     "data": {
      "text/plain": [
       "0.489"
      ]
     },
     "execution_count": 53,
     "metadata": {},
     "output_type": "execute_result"
    }
   ],
   "source": [
    "# test acc\n",
    "result['acc']"
   ]
  },
  {
   "cell_type": "code",
   "execution_count": 32,
   "metadata": {},
   "outputs": [
    {
     "data": {
      "image/png": "[encoded data removed]",
      "text/plain": [
       "<matplotlib.figure.Figure at 0x7f0bf8bf6f98>"
      ]
     },
     "metadata": {},
     "output_type": "display_data"
    }
   ],
   "source": [
    "hx = result['history']\n",
    "plt.figure(figsize=(16,9))\n",
    "\n",
    "plt.plot(hx['val_acc'], 'g.', label=\"Validation Accuracy\")\n",
    "plt.plot(hx['acc'], 'b.', label=\"Training Accuracy\")\n",
    "\n",
    "plt.title(\"Training vs. Validation Accuracy\")\n",
    "plt.xlabel(\"Epoch #\")\n",
    "plt.ylabel(\"Accuracy\")\n",
    "plt.legend()\n",
    "plt.show()"
   ]
  },
  {
   "cell_type": "code",
   "execution_count": null,
   "metadata": {
    "collapsed": true
   },
   "outputs": [],
   "source": []
  },
  {
   "cell_type": "code",
   "execution_count": 39,
   "metadata": {},
   "outputs": [
    {
     "data": {
      "text/plain": [
       "['Conv2D',\n",
       " 'MaxPooling2D',\n",
       " 'Dropout',\n",
       " 'Conv2D',\n",
       " 'MaxPooling2D',\n",
       " 'Dropout',\n",
       " 'Conv2D',\n",
       " 'MaxPooling2D',\n",
       " 'Dropout',\n",
       " 'Conv2D',\n",
       " 'MaxPooling2D',\n",
       " 'Dropout',\n",
       " 'Flatten',\n",
       " 'Dense',\n",
       " 'Dropout',\n",
       " 'Dense']"
      ]
     },
     "execution_count": 39,
     "metadata": {},
     "output_type": "execute_result"
    }
   ],
   "source": [
    "[arch['class_name'] for arch in result['config']]"
   ]
  }
 ],
 "metadata": {
  "kernelspec": {
   "display_name": "Python 3",
   "language": "python",
   "name": "python3"
  }
 },
 "nbformat": 4,
 "nbformat_minor": 2
}
