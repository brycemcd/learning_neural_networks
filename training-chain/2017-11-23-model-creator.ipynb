{
 "cells": [
  {
   "cell_type": "markdown",
   "metadata": {},
   "source": [
    "# Model Creator\n",
    "\n",
    "This scratch pad, creates a model and then writes it to a queue"
   ]
  },
  {
   "cell_type": "code",
   "execution_count": 4,
   "metadata": {},
   "outputs": [],
   "source": [
    "import json\n",
    "import numpy as np\n",
    "import datetime\n",
    "np.random.seed(81)\n",
    "\n",
    "from kafka import KafkaProducer\n",
    "\n",
    "import keras\n",
    "from keras.models import Sequential\n",
    "from keras.layers import Dense, Dropout\n",
    "from keras.layers import Flatten, Conv2D, MaxPooling2D\n",
    "\n",
    "n_classes = 2"
   ]
  },
  {
   "cell_type": "code",
   "execution_count": 27,
   "metadata": {},
   "outputs": [],
   "source": [
    "model = Sequential()\n",
    "# conv 1\n",
    "model.add(Conv2D(4, kernel_size=(3, 3), activation='relu', padding='same', input_shape=(240, 320, 1), name=\"conv_1\"))\n",
    "model.add(MaxPooling2D(pool_size=(2, 2), strides=(2, 2), padding='same', name=\"max_pool_1\"))\n",
    "model.add(Dropout(0.10))\n",
    "\n",
    "# conv 2\n",
    "model.add(Conv2D(8, kernel_size=(3, 3), activation='relu', padding='same', name=\"conv_2\"))\n",
    "model.add(MaxPooling2D(pool_size=(2, 2), strides=(2, 2), padding='same', name=\"max_pool_2\"))\n",
    "model.add(Dropout(0.10))\n",
    "\n",
    "# Fully Connected\n",
    "model.add(Flatten())\n",
    "\n",
    "model.add(Dense(100, activation='relu', name=\"fc_1\"))\n",
    "model.add(Dropout(0.2))\n",
    "\n",
    "model.add(Dense(n_classes, activation='softmax', name=\"output\"))"
   ]
  },
  {
   "cell_type": "code",
   "execution_count": 30,
   "metadata": {},
   "outputs": [
    {
     "data": {
      "text/plain": [
       "<kafka.producer.future.FutureRecordMetadata at 0x7f4117342b00>"
      ]
     },
     "execution_count": 30,
     "metadata": {},
     "output_type": "execute_result"
    }
   ],
   "source": [
    "model_topic = \"test-models\"\n",
    "\n",
    "conf = {\n",
    "    'bootstrap.servers': [\"spark4.thedevranch.net\"],\n",
    "}\n",
    "\n",
    "producer = KafkaProducer(bootstrap_servers=conf['bootstrap.servers'], )\n",
    "\n",
    "producer.send(model_topic, model.to_json().encode('utf-8'))"
   ]
  }
 ],
 "metadata": {
  "kernelspec": {
   "display_name": "Python 3",
   "language": "python",
   "name": "python3"
  },
  "language_info": {
   "codemirror_mode": {
    "name": "ipython",
    "version": 3
   },
   "file_extension": ".py",
   "mimetype": "text/x-python",
   "name": "python",
   "nbconvert_exporter": "python",
   "pygments_lexer": "ipython3",
   "version": "3.6.2"
  }
 },
 "nbformat": 4,
 "nbformat_minor": 2
}
